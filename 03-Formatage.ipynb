{
 "cells": [
  {
   "cell_type": "markdown",
   "id": "2fceab53",
   "metadata": {},
   "source": [
    "# Formatage de chaînes de caractères"
   ]
  },
  {
   "cell_type": "markdown",
   "id": "e732e681",
   "metadata": {},
   "source": [
    "On désigne par formatage les outils qui permettent d'obtenir une présentation fine des résultats, que ce soit pour améliorer la lisibilité lorsqu'on s'adresse à des humains, ou pour respecter la syntaxe d'un outil auquel on veut passer les données pour un traitement ultérieur."
   ]
  },
  {
   "cell_type": "markdown",
   "id": "b17ed2e4",
   "metadata": {},
   "source": [
    "### La fonction `print`"
   ]
  },
  {
   "cell_type": "markdown",
   "id": "a80fb191",
   "metadata": {},
   "source": [
    "Nous avons jusqu'à maintenant presque toujours utilisé la fonction `print` pour afficher nos résultats. Comme on l'a vu, celle-ci réalise un formatage sommaire&nbsp;: elle insère un espace entre les valeurs qui lui sont passées."
   ]
  },
  {
   "cell_type": "code",
   "execution_count": null,
   "id": "5549a59b",
   "metadata": {},
   "outputs": [],
   "source": [
    "print(1, 'a', 12 + 4j)"
   ]
  },
  {
   "cell_type": "markdown",
   "id": "92b47c25",
   "metadata": {},
   "source": [
    "La seule subtilité notable concernant `print` est que, par défaut, elle ajoute un saut de ligne à la fin. Pour éviter ce comportement, on peut passer à la fonction un argument `end`, qui sera inséré *au lieu* du saut de ligne. Ainsi par exemple :"
   ]
  },
  {
   "cell_type": "code",
   "execution_count": null,
   "id": "32278a2e",
   "metadata": {},
   "outputs": [],
   "source": [
    "# une première ligne\n",
    "print(\"une\", \"seule\", \"ligne\")\n"
   ]
  },
  {
   "cell_type": "code",
   "execution_count": null,
   "id": "fe7b8288",
   "metadata": {},
   "outputs": [],
   "source": [
    "# une deuxième ligne en deux appels à print\n",
    "print(\"une\", \"autre\")\n",
    "print(\"ligne\")"
   ]
  },
  {
   "cell_type": "code",
   "execution_count": null,
   "id": "92224cb6",
   "metadata": {},
   "outputs": [],
   "source": [
    "# une deuxième ligne en deux appels à print\n",
    "print(\"une\", \"autre\", end=' ')\n",
    "print(\"ligne\")"
   ]
  },
  {
   "cell_type": "markdown",
   "id": "f235f2f5",
   "metadata": {},
   "source": [
    "On rencontre assez vite les limites de `print` :\n",
    "\n",
    "* d'une part, il peut être nécessaire de formater une chaîne de caractères sans nécessairement vouloir l'imprimer, ou en tout cas pas immédiatement ;\n",
    "* d'autre part, les espaces ajoutées peuvent être plus néfastes qu'utiles ;\n",
    "* enfin, on peut avoir besoin de préciser un nombre de chiffres significatifs, ou de choisir comment présenter une date.\n",
    "\n",
    "C'est pourquoi il est plus courant de **formater** les chaînes - c'est-à-dire de calculer des chaînes en mémoire, sans nécessairement les imprimer de suite, et c'est ce que nous allons étudier dans ce complément."
   ]
  },
  {
   "cell_type": "markdown",
   "id": "99fcd0eb",
   "metadata": {},
   "source": [
    "### Les *f-strings*"
   ]
  },
  {
   "cell_type": "markdown",
   "id": "88bfcab0",
   "metadata": {},
   "source": [
    "Depuis la version 3.6 de Python, on peut utiliser les f-strings, le premier mécanisme de formatage que nous étudierons. C'est le mécanisme de formatage le plus simple et le plus agréable à utiliser.\n",
    "\n",
    "Je vous recommande tout de même de lire les sections à propos de `format` et de `%`, qui sont encore massivement utilisées dans le code existant (surtout `%` d'ailleurs, bien qu'obsolète)."
   ]
  },
  {
   "cell_type": "markdown",
   "id": "2d72b72e",
   "metadata": {},
   "source": [
    "Mais définissons d'abord quelques données à afficher :"
   ]
  },
  {
   "cell_type": "code",
   "execution_count": 7,
   "id": "976a2d75",
   "metadata": {},
   "outputs": [],
   "source": [
    "# donnons-nous quelques variables\n",
    "prenom, nom, age = 'Jean', 'Dupont', 35"
   ]
  },
  {
   "cell_type": "code",
   "execution_count": null,
   "id": "2b3e3813",
   "metadata": {},
   "outputs": [],
   "source": [
    "# mon premier f-string\n",
    "f\"{prenom} {nom} a {age} ans\""
   ]
  },
  {
   "cell_type": "markdown",
   "id": "ca496b4b",
   "metadata": {},
   "source": [
    "Vous remarquez d'abord que la chaine commence par `f\"`, c'est bien sûr pour cela qu'on l'appelle un *f-string*.\n",
    "\n",
    "On peut bien entendu ajouter le `f` devant toutes les formes de strings, qu'ils commencent par `'` ou `\"` ou `'''` ou `\"\"\"`."
   ]
  },
  {
   "cell_type": "markdown",
   "id": "24bbcff5",
   "metadata": {},
   "source": [
    "Ensuite vous remarquez que les zones délimitées entre `{}` sont remplacées. La logique d'un *f-string*, c'est tout simplement de considérer l'intérieur d'un `{}` comme du code Python (une expression pour être précis), de l'évaluer, et d'utiliser le résultat pour remplir le `{}`."
   ]
  },
  {
   "cell_type": "markdown",
   "id": "26d28847",
   "metadata": {},
   "source": [
    "Ça veut dire, en clair, que je peux faire des calculs à l'intérieur des `{}`."
   ]
  },
  {
   "cell_type": "code",
   "execution_count": null,
   "id": "d2e25a6a",
   "metadata": {},
   "outputs": [],
   "source": [
    "# toutes les expressions sont autorisées à l'intérieur d'un {}\n",
    "f\"dans 10 ans {prenom} aura {age + 10} ans\""
   ]
  },
  {
   "cell_type": "code",
   "execution_count": null,
   "id": "25bb288d",
   "metadata": {},
   "outputs": [],
   "source": [
    "# on peut donc aussi mettre des appels de fonction\n",
    "notes = [12, 15, 19]\n",
    "f\"nous avons pour l'instant {len(notes)} notes\""
   ]
  },
  {
   "cell_type": "markdown",
   "id": "a0a194b6",
   "metadata": {},
   "source": [
    "Nous allons en rester là pour la partie en niveau basique. Il nous reste à étudier comment chaque `{}` est formaté (par exemple comment choisir le nombre de chiffres significatifs sur un flottant), ce point est expliqué plus bas.\n",
    "\n",
    "Comme vous le voyez, les *f-strings* fournissent une méthode très simple et expressive pour formater des données dans des chaînes de caractère. Redisons-le pour être bien clair&nbsp;: un *f-string* **ne réalise pas d'impression**, il faut donc le passer à `print` si l'impression est souhaitée."
   ]
  },
  {
   "cell_type": "markdown",
   "id": "7acb0da9",
   "metadata": {},
   "source": [
    "### La méthode `format`"
   ]
  },
  {
   "cell_type": "markdown",
   "id": "98938051",
   "metadata": {},
   "source": [
    "Avant l'introduction des *f-strings*, la technique recommandée pour faire du formatage était d'utiliser la méthode `format` qui est définie sur les objets `str` et qui s'utilise comme ceci :"
   ]
  },
  {
   "cell_type": "code",
   "execution_count": null,
   "id": "3a642f31",
   "metadata": {},
   "outputs": [],
   "source": [
    "\"{} {} a {} ans\".format(prenom, nom, age)"
   ]
  },
  {
   "cell_type": "markdown",
   "id": "47bfb58a",
   "metadata": {},
   "source": [
    "Dans cet exemple le plus simple, les données sont affichées en lieu et place des `{}`, dans l'ordre où elles sont fournies."
   ]
  },
  {
   "cell_type": "markdown",
   "id": "eae221ba",
   "metadata": {},
   "source": [
    "Cela convient bien lorsqu'on a peu de données. Si par la suite on veut changer l'ordre par exemple des nom et prénom, on peut bien sûr échanger l'ordre des arguments passés à format, ou encore utiliser la **liaison par position**, comme ceci :"
   ]
  },
  {
   "cell_type": "code",
   "execution_count": null,
   "id": "41b18537",
   "metadata": {},
   "outputs": [],
   "source": [
    "\"{1} {0} a {2} ans\".format(prenom, nom, age)"
   ]
  },
  {
   "cell_type": "markdown",
   "id": "afb91a68",
   "metadata": {},
   "source": [
    "Dans la pratique toutefois, cette forme est assez peu utile, on lui préfère souvent la **liaison par nom** qui se présente comme ceci :"
   ]
  },
  {
   "cell_type": "code",
   "execution_count": null,
   "id": "87db24a1",
   "metadata": {},
   "outputs": [],
   "source": [
    "(\"{le_prenom} {le_nom} a {l_age} ans\"\n",
    "   .format(le_nom=nom, le_prenom=prenom, l_age=age))"
   ]
  },
  {
   "cell_type": "markdown",
   "id": "94903bf7",
   "metadata": {},
   "source": [
    "*Petite digression* : remarquez l'usage des parenthèses, qui me permettent de couper ma ligne en deux, car sinon ce code serait trop long pour la PEP8; on s'efforce toujours de ne pas dépasser 80 caractères de large, dans notre cas c'est utile notamment pour l'édition du cours au format PDF."
   ]
  },
  {
   "cell_type": "markdown",
   "id": "ee7f7f2d",
   "metadata": {},
   "source": [
    "Reprenons : dans ce premier exemple de liaison par nom, nous avons délibérément utilisé des noms différents pour les données externes et pour les noms apparaissant dans le format, pour bien illustrer comment la liaison est résolue, mais on peut aussi bien faire tout simplement :"
   ]
  },
  {
   "cell_type": "code",
   "execution_count": null,
   "id": "cd09d905",
   "metadata": {},
   "outputs": [],
   "source": [
    "\"{prenom} {nom} a {age} ans\".format(nom=nom, prenom=prenom, age=age)"
   ]
  },
  {
   "cell_type": "markdown",
   "id": "9b5c0965",
   "metadata": {},
   "source": [
    "Voici qui conclut notre courte introduction à la méthode `format`."
   ]
  },
  {
   "cell_type": "markdown",
   "id": "19f9ae3b",
   "metadata": {},
   "source": [
    "### La toute première version du formatage : l'opérateur `%`"
   ]
  },
  {
   "cell_type": "markdown",
   "id": "4e6b8732",
   "metadata": {},
   "source": [
    "`format` a été en fait introduite assez tard dans Python, pour remplacer la technique que nous allons présenter maintenant.\n",
    "\n",
    "Étant donné le volume de code qui a été écrit avec l'opérateur `%`, il nous a semblé important d'introduire brièvement cette construction ici. Vous ne devez cependant pas utiliser cet opérateur dans du code moderne, la manière pythonique de formater les chaînes de caractères est le f-string."
   ]
  },
  {
   "cell_type": "markdown",
   "id": "a06ebd0f",
   "metadata": {},
   "source": [
    "Le principe de l'opérateur `%` est le suivant. On élabore comme ci-dessus un \"format\" c'est-à-dire le patron de ce qui doit être rendu, auquel on passe des arguments pour \"remplir\" les trous. Voyons les exemples de tout à l'heure avec l'opérateur `%` :"
   ]
  },
  {
   "cell_type": "code",
   "execution_count": null,
   "id": "8f8a5644",
   "metadata": {},
   "outputs": [],
   "source": [
    "# l'ancienne façon de formater les chaînes avec %\n",
    "# est souvent moins lisible\n",
    "\"%s %s a %s ans\" % (prenom, nom, age)"
   ]
  },
  {
   "cell_type": "markdown",
   "id": "175a973f",
   "metadata": {},
   "source": [
    "On pouvait également avec cet opérateur recourir à un mécanisme de liaison par nommage, en passant par un dictionnaire. Pour anticiper un tout petit peu sur cette notion que nous verrons très bientôt, voici comment"
   ]
  },
  {
   "cell_type": "code",
   "execution_count": null,
   "id": "2585cd01",
   "metadata": {},
   "outputs": [],
   "source": [
    "variables = {'le_nom': nom, 'le_prenom': prenom, 'l_age': age}\n",
    "\"%(le_nom)s, %(le_prenom)s, %(l_age)s ans\" % variables"
   ]
  },
  {
   "cell_type": "markdown",
   "id": "b3805ecd",
   "metadata": {},
   "source": [
    "## Complément - f-strings"
   ]
  },
  {
   "cell_type": "markdown",
   "id": "6e4d94b6",
   "metadata": {},
   "source": [
    "De retour aux *f-strings* et à la fonction `format`, il arrive qu'on ait besoin de spécifier plus finement la façon dont une valeur doit être affichée; cela se fait en précisant un **format** à l'intérieur des `{}` comme ceci :\n",
    "\n",
    "![f-string](img/f-string.svg)\n",
    "\n",
    "* à gauche du `:` vous pouvez mettre **n'importe quelle expression** (opérations arithmétiques, appels de fonctions, …); bien sûr s'il n'y a pas de `:` tout ce qui est entre les `{}` constitue l'expression à évaluer;\n",
    "* à droite du `:` vous pouvez préciser **un format**, nous allons en voir quelques exemples."
   ]
  },
  {
   "cell_type": "markdown",
   "id": "14e24080",
   "metadata": {},
   "source": [
    "### Précision des arrondis"
   ]
  },
  {
   "cell_type": "markdown",
   "id": "b4c83f85",
   "metadata": {},
   "source": [
    "C'est typiquement le cas avec les valeurs flottantes pour lesquelles la précision de l'affichage vient au détriment de la lisibilité. \n",
    "\n",
    "Voici comment on obtient une valeur de pi arrondie :"
   ]
  },
  {
   "cell_type": "code",
   "execution_count": 17,
   "id": "d8b222f6",
   "metadata": {},
   "outputs": [],
   "source": [
    "from math import pi"
   ]
  },
  {
   "cell_type": "code",
   "execution_count": null,
   "id": "32ab8c5b",
   "metadata": {},
   "outputs": [],
   "source": [
    "# un f-string\n",
    "f\"2pi avec seulement 2 chiffres apres la virgule {2*pi:.2f}\""
   ]
  },
  {
   "cell_type": "markdown",
   "id": "d760bc9e",
   "metadata": {},
   "source": [
    "Vous remarquez que la façon de construire un *format* est la même pour les *f-strings* et pour `format`."
   ]
  },
  {
   "cell_type": "markdown",
   "id": "f31c0432",
   "metadata": {},
   "source": [
    "### `0` en début de nombre"
   ]
  },
  {
   "cell_type": "markdown",
   "id": "45e812a9",
   "metadata": {},
   "source": [
    "Pour forcer un petit entier à s'afficher sur 4 caractères, avec des `0` ajoutés au début si nécessaire :"
   ]
  },
  {
   "cell_type": "code",
   "execution_count": null,
   "id": "bb0f7ecb",
   "metadata": {},
   "outputs": [],
   "source": [
    "x = 15\n",
    "\n",
    "f\"{x:04d}\""
   ]
  },
  {
   "cell_type": "markdown",
   "id": "01bdc24b",
   "metadata": {},
   "source": [
    "Ici on utilise le format `d` (toutes ces lettres `d`, `f`, `g` viennent des formats ancestraux de la libc comme `printf`). Ici avec `04d` on précise qu'on veut une sortie sur 4 caractères et qu'il faut remplir à gauche si nécessaire avec des `0`."
   ]
  },
  {
   "cell_type": "markdown",
   "id": "3e1080d8",
   "metadata": {},
   "source": [
    "### Largeur fixe"
   ]
  },
  {
   "cell_type": "markdown",
   "id": "b82cb212",
   "metadata": {},
   "source": [
    "Dans certains cas, on a besoin d'afficher des données en colonnes de largeur fixe, on utilise pour cela les formats `<` `^` et `>` pour afficher à gauche, au centre, ou à droite d'une zone de largeur fixe :"
   ]
  },
  {
   "cell_type": "code",
   "execution_count": null,
   "id": "2db38349",
   "metadata": {},
   "outputs": [],
   "source": [
    "# les données à afficher\n",
    "comptes = [\n",
    " ('Apollin', 'Dupont', 127),\n",
    " ('Myrtille', 'Lamartine', 25432),\n",
    " ('Prune', 'Soc', 827465),\n",
    "]\n",
    "\n",
    "for prenom, nom, solde in comptes:\n",
    "    print(f\"{prenom:<10} -- {nom:^12} -- {solde:>8} €\")"
   ]
  },
  {
   "cell_type": "markdown",
   "id": "341c0e5f",
   "metadata": {},
   "source": [
    "### Voir aussi"
   ]
  },
  {
   "cell_type": "markdown",
   "id": "36c9fc7a",
   "metadata": {},
   "source": [
    "Nous vous invitons à vous reporter à la documentation de `format` pour plus de détails [sur les formats disponibles](https://docs.python.org/3/library/string.html#formatstrings), et notamment aux [nombreux exemples](https://docs.python.org/3/library/string.html#format-examples) qui y figurent."
   ]
  }
 ],
 "metadata": {
  "ipub": {
   "sphinx": {
    "toggle_input": true,
    "toggle_input_all": true,
    "toggle_output": true,
    "toggle_output_all": true
   }
  },
  "jupytext": {
   "cell_metadata_filter": "all, -hidden, -heading_collapsed, -run_control, -trusted",
   "notebook_metadata_filter": "all, -jupytext.text_representation.jupytext_version, -jupytext.text_representation.format_version, -language_info.version, -language_info.codemirror_mode.version, -language_info.codemirror_mode, -language_info.file_extension, -language_info.mimetype, -toc",
   "text_representation": {
    "extension": ".md",
    "format_name": "myst"
   }
  },
  "kernelspec": {
   "display_name": "Python 3 (ipykernel)",
   "language": "python",
   "name": "python3"
  },
  "language_info": {
   "codemirror_mode": {
    "name": "ipython",
    "version": 3
   },
   "file_extension": ".py",
   "mimetype": "text/x-python",
   "name": "python",
   "nbconvert_exporter": "python",
   "pygments_lexer": "ipython3",
   "version": "3.12.5"
  },
  "livereveal": {
   "auto_select": "code",
   "auto_select_fragment": true,
   "autolaunch": false,
   "backimage": "media/nologo.png",
   "height": "100%",
   "slideNumber": "c",
   "start_slideshow_at": "selected",
   "theme": "simple",
   "transition": "fade",
   "width": "100%"
  },
  "notebookname": "Formatage de chaînes",
  "version": "3.0"
 },
 "nbformat": 4,
 "nbformat_minor": 5
}
