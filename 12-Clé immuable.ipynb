{
 "cells": [
  {
   "cell_type": "markdown",
   "metadata": {},
   "source": [
    "# Clés immuables"
   ]
  },
  {
   "cell_type": "markdown",
   "metadata": {},
   "source": [
    "## Complément - niveau intermédiaire"
   ]
  },
  {
   "cell_type": "markdown",
   "metadata": {},
   "source": [
    "Nous avons vu comment manipuler un dictionnaire, il nous reste à voir un peu plus en détail les contraintes qui sont mises par le langage sur ce qui peut servir de clé dans un dictionnaire. On parle dans ce complément spécifiquement des clefs construites à partir des types `built-in`. Le cas de vos propres classes utilisées comme clefs de dictionnaires n'est pas abordé dans ce complément."
   ]
  },
  {
   "cell_type": "markdown",
   "metadata": {},
   "source": [
    "### Une clé doit être immuable"
   ]
  },
  {
   "cell_type": "markdown",
   "metadata": {},
   "source": [
    "Si vous vous souvenez de de ce qu'on a vu sur les tables de hash, la mécanique interne du dictionnaire repose sur le calcul, à partir de chaque clé, d'une fonction de hachage.\n",
    "\n",
    "C'est-à-dire que, pour simplifier, on localise la présence d'une clé en calculant d'abord\n",
    "\n",
    "$f(clé) = hash$\n",
    "\n",
    "puis on poursuit la recherche en utilisant $hash$ comme indice dans le tableau contenant les couples (clé, valeur).\n",
    "\n",
    "On le rappelle, c'est cette astuce qui permet de réaliser les opérations sur les dictionnaires en temps constant - c'est-à-dire indépendamment du nombre d'éléments."
   ]
  },
  {
   "cell_type": "markdown",
   "metadata": {},
   "source": [
    "Cependant, pour que ce mécanisme fonctionne, il est indispensable que **la valeur de la clé reste inchangée** pendant la durée de vie du dictionnaire. Sinon, bien entendu, on pourrait avoir le scénario suivant :\n",
    "\n",
    "* on range un tuple `(clef, valeur)` à un premier indice $f(clef) = hash_1$ ;\n",
    "* on modifie la valeur de $clef$ qui devient $clef'$ ;\n",
    "* on recherche notre valeur à l'indice $f(clef') = hash_2 \\neq hash_1$.\n",
    "\n",
    "et donc, avec ces hypothèses, on n'a plus la garantie de bon fonctionnement de la logique."
   ]
  },
  {
   "cell_type": "markdown",
   "metadata": {},
   "source": [
    "### Une clé doit être globalement immuable"
   ]
  },
  {
   "cell_type": "markdown",
   "metadata": {},
   "source": [
    "Nous avons depuis le début du cours longuement insisté sur le caractère mutable ou immuable des différents types prédéfinis de Python. Vous devez donc à présent avoir au moins en partie ce tableau en tête :\n",
    "<center>\n",
    "\n",
    "| Type            | Mutable ? |\n",
    "|----------------:|----------:|\n",
    "| `int`, `float`  | immuable  |\n",
    "|`complex`,`bool` | immuable  |\n",
    "|`str`            | immuable  |\n",
    "|`list`           | mutable   |\n",
    "|`dict`           | mutable   |\n",
    "|`set`            | mutable   |\n",
    "|`frozenset`      | immuable  |\n",
    "</center>"
   ]
  },
  {
   "cell_type": "markdown",
   "metadata": {},
   "source": [
    "Le point important ici, est qu'il **ne suffit pas**, pour une clé, d'être **de type immuable**.\n",
    "\n",
    "On peut le voir sur un exemple très simple ; donnons-nous donc un dictionnaire :"
   ]
  },
  {
   "cell_type": "code",
   "execution_count": 2,
   "metadata": {},
   "outputs": [],
   "source": [
    "d = {}"
   ]
  },
  {
   "cell_type": "markdown",
   "metadata": {},
   "source": [
    "Et commençons avec un objet de type immuable, un tuple d'entiers :"
   ]
  },
  {
   "cell_type": "code",
   "execution_count": 3,
   "metadata": {},
   "outputs": [],
   "source": [
    "bonne_cle = (1, 2)"
   ]
  },
  {
   "cell_type": "markdown",
   "metadata": {},
   "source": [
    "Cet objet est non seulement **de type immuable**, mais tous ses composants et sous-composants sont **immuables**, on peut donc l'utiliser comme clé dans le dictionnaire :"
   ]
  },
  {
   "cell_type": "code",
   "execution_count": null,
   "metadata": {},
   "outputs": [],
   "source": [
    "d[bonne_cle] = \"pas de probleme ici\"\n",
    "print(d)"
   ]
  },
  {
   "cell_type": "markdown",
   "metadata": {},
   "source": [
    "Si à présent on essaie d'utiliser comme clé un tuple qui contient une liste :"
   ]
  },
  {
   "cell_type": "code",
   "execution_count": 5,
   "metadata": {},
   "outputs": [],
   "source": [
    "mauvaise_cle = (1, [1, 2])"
   ]
  },
  {
   "cell_type": "markdown",
   "metadata": {},
   "source": [
    "Il se trouve que cette clé, **bien que de type immuable**, peut être **indirectement modifiée** puisque :"
   ]
  },
  {
   "cell_type": "code",
   "execution_count": null,
   "metadata": {},
   "outputs": [],
   "source": [
    "mauvaise_cle[1].append(3)\n",
    "print(mauvaise_cle)"
   ]
  },
  {
   "cell_type": "markdown",
   "metadata": {},
   "source": [
    "Et c'est pourquoi on ne peut pas utiliser cet objet comme clé dans le dictionnaire :"
   ]
  },
  {
   "cell_type": "code",
   "execution_count": null,
   "metadata": {},
   "outputs": [],
   "source": [
    "# provoque une exception\n",
    "d[mauvaise_cle] = 'on ne peut pas faire ceci'"
   ]
  },
  {
   "cell_type": "markdown",
   "metadata": {},
   "source": [
    "Pour conclure, il faut retenir qu'un objet n'est éligible pour être utilisé comme clé que s'il est **composé de types immuables de haut en bas** de la structure de données."
   ]
  },
  {
   "cell_type": "markdown",
   "metadata": {},
   "source": [
    "La raison d'être principale du type `tuple`, que nous avons vu la semaine passée, et du type `frozenset`, que nous verrons très prochainement, est précisément de construire de tels objets globalement immuables."
   ]
  }
 ],
 "metadata": {
  "kernelspec": {
   "display_name": "Python 3",
   "language": "python",
   "name": "python3"
  },
  "language_info": {
   "codemirror_mode": {
    "name": "ipython",
    "version": 3
   },
   "file_extension": ".py",
   "mimetype": "text/x-python",
   "name": "python",
   "nbconvert_exporter": "python",
   "pygments_lexer": "ipython3",
   "version": "3.12.5"
  }
 },
 "nbformat": 4,
 "nbformat_minor": 2
}
