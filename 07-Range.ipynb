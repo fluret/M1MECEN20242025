{
 "cells": [
  {
   "cell_type": "markdown",
   "metadata": {},
   "source": [
    "# Fonction range"
   ]
  },
  {
   "cell_type": "markdown",
   "metadata": {},
   "source": [
    "Dans ce court exposé, nous allons discuter de la fonction range. Nous n'avons pas encore développé un niveau de connaissance très approfondi des fonctions, mais nous pouvons comprendre les bases de cette fonction simple (mais extrêmement utile !). range() nous permet de créer une liste de nombres allant d'un point de départ à un point d'arrivée. Nous pouvons également spécifier la taille du pas. Voyons quelques exemples :"
   ]
  },
  {
   "cell_type": "markdown",
   "metadata": {},
   "source": [
    "## Type de donnée"
   ]
  },
  {
   "cell_type": "markdown",
   "metadata": {},
   "source": [
    "Notez que range est un type en Python et que les nombres ne sont toujours pas générés - ceci est dû à l'\"évaluation paresseuse\", qui permet d'économiser de la mémoire. Les nombres ne sont générés que lorsqu'ils sont utilisés d'une manière ou d'une autre."
   ]
  },
  {
   "cell_type": "code",
   "execution_count": null,
   "metadata": {},
   "outputs": [],
   "source": [
    "x =range(0,10)\n",
    "type(x)"
   ]
  },
  {
   "cell_type": "markdown",
   "metadata": {},
   "source": [
    "## Utilisation"
   ]
  },
  {
   "cell_type": "markdown",
   "metadata": {},
   "source": [
    "Il existe trois arguments que nous pouvons utiliser avec l'intervalle : start, stop et step. Nous pouvons illustrer ces trois arguments comme suit :\n",
    "\n",
    "1. range(stop) : Cette fonction crée une plage de nombres allant de zéro à un de moins que le nombre d'arrêt, avec une incrémentation de un.\n",
    "2. range(start, stop) : Cette fonction crée une plage de nombres allant du nombre de départ à un de moins que le nombre d'arrêt, avec une incrémentation de un. \n",
    "3. range(start, stop, step) : Cette fonction crée une plage de nombres allant du nombre de départ jusqu'à un nombre inférieur au nombre d'arrêt, en incrémentant par pas.\n",
    "\n",
    "L'exemple simple ci-dessus utilisait la première façon de déclarer la fonction range. Explorons les deux autres façons."
   ]
  },
  {
   "cell_type": "code",
   "execution_count": null,
   "metadata": {},
   "outputs": [],
   "source": [
    "list(range(5))"
   ]
  },
  {
   "cell_type": "code",
   "execution_count": null,
   "metadata": {},
   "outputs": [],
   "source": [
    "list(range(0,10))"
   ]
  },
  {
   "cell_type": "code",
   "execution_count": null,
   "metadata": {},
   "outputs": [],
   "source": [
    "start = 0 #Default\n",
    "stop = 20 \n",
    "x = range(start,stop)\n",
    "list(x)"
   ]
  },
  {
   "cell_type": "markdown",
   "metadata": {},
   "source": [
    "Super ! Remarquez qu'il est monté jusqu'à 20, mais qu'il n'a pas produit 20. C'est comme pour l'indexation.\n",
    "\n",
    "Qu'en est-il de la taille du pas ? Nous pouvons la spécifier en tant que troisième argument :"
   ]
  },
  {
   "cell_type": "code",
   "execution_count": null,
   "metadata": {},
   "outputs": [],
   "source": [
    "x = range(start,stop,2)\n",
    "#Show\n",
    "list(x)"
   ]
  },
  {
   "cell_type": "markdown",
   "metadata": {},
   "source": [
    "## Utilisation avancée"
   ]
  },
  {
   "cell_type": "markdown",
   "metadata": {},
   "source": [
    "Il est intéressant de noter que nous pouvons accéder aux éléments d'un objet de plage par le biais de son index, comme nous le ferions avec une liste. Le troisième objet de notre plage est 2."
   ]
  },
  {
   "cell_type": "code",
   "execution_count": null,
   "metadata": {},
   "outputs": [],
   "source": [
    "range(5)[2]"
   ]
  },
  {
   "cell_type": "markdown",
   "metadata": {},
   "source": [
    "À l'instar des listes, nous pouvons également découper (slice) un objet de type range. Cette opération renvoie un nouvel objet range !"
   ]
  },
  {
   "cell_type": "code",
   "execution_count": null,
   "metadata": {},
   "outputs": [],
   "source": [
    "range(5)[:3]"
   ]
  },
  {
   "cell_type": "code",
   "execution_count": null,
   "metadata": {},
   "outputs": [],
   "source": [
    "list(range(5)[:3])"
   ]
  },
  {
   "cell_type": "markdown",
   "metadata": {},
   "source": [
    "La fonction range peut être utilisée pour générer des nombres négatifs."
   ]
  },
  {
   "cell_type": "code",
   "execution_count": null,
   "metadata": {},
   "outputs": [],
   "source": [
    "list(range(-10,5,3))"
   ]
  },
  {
   "cell_type": "markdown",
   "metadata": {},
   "source": [
    "Nous pouvons également définir un pas négatif pour générer des nombres dans l'ordre décroissant, plutôt que d'utiliser la fonction inversée."
   ]
  },
  {
   "cell_type": "code",
   "execution_count": null,
   "metadata": {},
   "outputs": [],
   "source": [
    "list(range(-10,-17,-2))"
   ]
  },
  {
   "cell_type": "markdown",
   "metadata": {},
   "source": [
    "Notez que si vous utilisez un argument de pas avec range, il ne peut pas être nul (cela provoquerait une boucle infinie et donc une ValueError).\n",
    "\n",
    "De plus, si le comptage à partir de l'argument de départ n'atteint jamais l'argument de fin, range ne renvoie rien.\n",
    "\n",
    "Notez que rien n'est imprimé lorsque nous exécutons le code ci-dessous, car si nous commençons par 17 et comptons vers le haut, nous ne pourrons jamais atteindre l'argument final spécifié de 10 :"
   ]
  },
  {
   "cell_type": "code",
   "execution_count": null,
   "metadata": {},
   "outputs": [],
   "source": [
    "list(range(17, 10))"
   ]
  },
  {
   "cell_type": "markdown",
   "metadata": {},
   "source": [
    "Attention, la fonction range ne fonctionne pas avec des flottants !!!"
   ]
  }
 ],
 "metadata": {
  "kernelspec": {
   "display_name": "Python 3",
   "language": "python",
   "name": "python3"
  },
  "language_info": {
   "codemirror_mode": {
    "name": "ipython",
    "version": 3
   },
   "file_extension": ".py",
   "mimetype": "text/x-python",
   "name": "python",
   "nbconvert_exporter": "python",
   "pygments_lexer": "ipython3",
   "version": "3.12.5"
  }
 },
 "nbformat": 4,
 "nbformat_minor": 2
}
