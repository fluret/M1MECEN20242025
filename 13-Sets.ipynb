{
 "cells": [
  {
   "cell_type": "markdown",
   "metadata": {},
   "source": [
    "# Les ensembles"
   ]
  },
  {
   "cell_type": "markdown",
   "metadata": {},
   "source": [
    "Les sets sont très proches des dictionnaires, comme les dictionnaires, ils permettent de faire des tests d'appartenance, d'accéder, modifier, effacer des éléments indépendamment du nombre d'éléments.\n",
    "\n",
    "Les sets sont également des objets mutables mais à la différence des dictionnaires, les sets ne stockent qu'une clé, il n'y a pas de valeur correspondante.\n",
    "\n",
    "Alors on peut se demander à quoi ça sert d'avoir une sorte de sous-dictionnaire qui ne stocke que des clés et pas de valeurs. En fait, la raison, c'est que le set est optimisé et a été créé pour des opérations spécifiques.\n",
    "\n",
    "- Une première opération dans laquelle le set est très utilisé, c'est par exemple pour garder uniquement les éléments uniques d'une séquence ; si on calcule le set des éléments d'une séquence, on ne va avoir que les éléments uniques.\n",
    "- Une deuxième opération pour laquelle le set est également très utilisé, c'est pour faire des tests d'appartenance sur les éléments d'une séquence.\n",
    "\n",
    "Les sets comme les dictionnaires sont des objets mutables, on peut donc les modifier en place."
   ]
  },
  {
   "cell_type": "markdown",
   "metadata": {},
   "source": [
    "## Création"
   ]
  },
  {
   "cell_type": "markdown",
   "metadata": {},
   "source": [
    "Je vais créer un set avec la fonction built-in set."
   ]
  },
  {
   "cell_type": "code",
   "execution_count": null,
   "metadata": {},
   "outputs": [],
   "source": [
    "s = set()\n",
    "type(s)"
   ]
  },
  {
   "cell_type": "markdown",
   "metadata": {},
   "source": [
    "J'obtiens un objet de type set qui est vide. Il n'est pas possible de créer un set avec uniquement une accolade vide, cela créé un dictionnaire.\n",
    "\n",
    "Ensuite, je peux créer un objet avec la notation accolades :"
   ]
  },
  {
   "cell_type": "code",
   "execution_count": null,
   "metadata": {},
   "outputs": [],
   "source": [
    "s = {1, 2, 3, 'a', True}\n",
    "s"
   ]
  },
  {
   "cell_type": "markdown",
   "metadata": {},
   "source": [
    "Je peux stocker n'importe quel objet hashable dans un set.\n",
    "Je vous rappelle qu'en Python tous les immuables sont hashables et que les mutables ne sont pas hashables.\n",
    "\n",
    "Donc je peux stocker des entiers, des chaînes de caractères et des tuples d'entiers ou de chaînes de caractères.\n",
    "\n",
    "Quelle est la différence ici entre les accolades qui représentent un set et les accolades qui représentent un dictionnaire ? Dans un set simplement, je n'ai pas la notation \":\" qui sépare la clé et la valeur.\n",
    "\n",
    "Ensuite, je peux créer un set à partir d'une séquence :"
   ]
  },
  {
   "cell_type": "code",
   "execution_count": null,
   "metadata": {},
   "outputs": [],
   "source": [
    "a = [1, 2, 4, 1, 18, 30, 4, 1]\n",
    "b = set(a)\n",
    "b"
   ]
  },
  {
   "cell_type": "markdown",
   "metadata": {},
   "source": [
    "Ici je pars d'une liste existante pour créer mon set. Comme il n'est pas possible d'avoir deux fois la même clé dans un set, je ne conserve que des éléments uniques."
   ]
  },
  {
   "cell_type": "markdown",
   "metadata": {},
   "source": [
    "### Un élément dans un ensemble doit être globalement immuable"
   ]
  },
  {
   "cell_type": "markdown",
   "metadata": {},
   "source": [
    "On a vu précédemment que les clés dans un dictionnaire doivent être globalement immuables. Pour exactement les mêmes raisons, les éléments d'un ensemble doivent aussi être globalement immuables :"
   ]
  },
  {
   "cell_type": "markdown",
   "metadata": {},
   "source": [
    "```python\n",
    "# on ne peut pas insérer un tuple qui contient une liste\n",
    ">>> ensemble = {(1, 2, [3, 4])}\n",
    "Traceback (most recent call last):\n",
    "  File \"<stdin>\", line 1, in <module>\n",
    "TypeError: unhashable type: 'list'\n",
    "```"
   ]
  },
  {
   "cell_type": "markdown",
   "metadata": {},
   "source": [
    "Le type `set` étant lui-même mutable, on ne peut pas créer un ensemble d'ensembles :"
   ]
  },
  {
   "cell_type": "markdown",
   "metadata": {},
   "source": [
    "```python\n",
    ">>> ensemble = {{1, 2}}\n",
    "Traceback (most recent call last):\n",
    "  File \"<stdin>\", line 1, in <module>\n",
    "TypeError: unhashable type: 'set'\n",
    "```"
   ]
  },
  {
   "cell_type": "markdown",
   "metadata": {},
   "source": [
    "Et c'est une des raisons d'être du type `frozenset`."
   ]
  },
  {
   "cell_type": "markdown",
   "metadata": {},
   "source": [
    "## Méthodes et fonction de base"
   ]
  },
  {
   "cell_type": "markdown",
   "metadata": {},
   "source": [
    "### Longueur d'un set"
   ]
  },
  {
   "cell_type": "code",
   "execution_count": null,
   "metadata": {},
   "outputs": [],
   "source": [
    "len(b)"
   ]
  },
  {
   "cell_type": "markdown",
   "metadata": {},
   "source": [
    "### Appartenance"
   ]
  },
  {
   "cell_type": "code",
   "execution_count": null,
   "metadata": {},
   "outputs": [],
   "source": [
    "print(18 in b)\n",
    "print('b' in b)"
   ]
  },
  {
   "cell_type": "markdown",
   "metadata": {},
   "source": [
    "### Ajout d'éléments"
   ]
  },
  {
   "cell_type": "code",
   "execution_count": null,
   "metadata": {},
   "outputs": [],
   "source": [
    "b.add('alice')\n",
    "b"
   ]
  },
  {
   "cell_type": "markdown",
   "metadata": {},
   "source": [
    "Il est également possible d'ajouter une séquence avec la méthode `update` :"
   ]
  },
  {
   "cell_type": "code",
   "execution_count": null,
   "metadata": {},
   "outputs": [],
   "source": [
    "b.update([1, 2, 3, 4, 5, 'coucou',(1, 2, 3)])\n",
    "b"
   ]
  },
  {
   "cell_type": "markdown",
   "metadata": {},
   "source": [
    "### Suppression d'éléments"
   ]
  },
  {
   "cell_type": "markdown",
   "metadata": {},
   "source": [
    "Avec la méthode `discard`"
   ]
  },
  {
   "cell_type": "code",
   "execution_count": null,
   "metadata": {},
   "outputs": [],
   "source": [
    "# enlever un element avec discard\n",
    "b.discard((1, 2, 3))\n",
    "b"
   ]
  },
  {
   "cell_type": "markdown",
   "metadata": {},
   "source": [
    "Cette méthode ne renvoie pas d'erreur si l'élément n'existe pas :"
   ]
  },
  {
   "cell_type": "code",
   "execution_count": null,
   "metadata": {},
   "outputs": [],
   "source": [
    "b.discard('foo')\n",
    "b"
   ]
  },
  {
   "cell_type": "markdown",
   "metadata": {},
   "source": [
    "Avec la méthode `remove` :"
   ]
  },
  {
   "cell_type": "code",
   "execution_count": null,
   "metadata": {},
   "outputs": [],
   "source": [
    "# enlever un élément avec remove\n",
    "b.remove('alice')\n",
    "b"
   ]
  },
  {
   "cell_type": "markdown",
   "metadata": {},
   "source": [
    "Attention cette méthode lève un exception si l'élément n'existe pas."
   ]
  },
  {
   "cell_type": "markdown",
   "metadata": {},
   "source": [
    "```python\n",
    ">>> b.remove('fred')\n",
    "---------------------------------------------------------------------------\n",
    "KeyError                                  Traceback (most recent call last)\n",
    "Cell In[23], line 2\n",
    "      1 # enlever un élément avec remove\n",
    "----> 2 b.remove('fred')\n",
    "      3 b\n",
    "\n",
    "KeyError: 'fred'\n",
    "```"
   ]
  },
  {
   "cell_type": "markdown",
   "metadata": {},
   "source": [
    "### Nettoyage"
   ]
  },
  {
   "cell_type": "code",
   "execution_count": null,
   "metadata": {},
   "outputs": [],
   "source": [
    "# pour nettoyer\n",
    "b.clear()\n",
    "b"
   ]
  },
  {
   "cell_type": "markdown",
   "metadata": {},
   "source": [
    "Évidemment, lorsque je fais un update je ne rajoute que les éléments qui ne sont pas déjà dans mon ensemble s. \n",
    "\n",
    "### Opérations ensemblistes"
   ]
  },
  {
   "cell_type": "markdown",
   "metadata": {},
   "source": [
    "Soit les deux ensembles suivants :"
   ]
  },
  {
   "cell_type": "code",
   "execution_count": 1,
   "metadata": {},
   "outputs": [],
   "source": [
    "s1 = {1, 2, 3}\n",
    "s2 = {3, 4, 5}"
   ]
  },
  {
   "cell_type": "markdown",
   "metadata": {},
   "source": [
    "#### Différence (s1 - s2)"
   ]
  },
  {
   "cell_type": "code",
   "execution_count": 3,
   "metadata": {},
   "outputs": [
    {
     "name": "stdout",
     "output_type": "stream",
     "text": [
      "{1, 2, 3}\n",
      "{3, 4, 5}\n",
      "{1, 2}\n",
      "{1, 2}\n",
      "{1, 2, 3}\n"
     ]
    }
   ],
   "source": [
    "print(s1)\n",
    "print(s2)\n",
    "print(s1-s2)\n",
    "print(s1.difference(s2))\n",
    "print(s1)"
   ]
  },
  {
   "cell_type": "markdown",
   "metadata": {},
   "source": [
    "C'est-à-dire les éléments qui ne sont que dans s1."
   ]
  },
  {
   "cell_type": "markdown",
   "metadata": {},
   "source": [
    "##### Différence symétrique"
   ]
  },
  {
   "cell_type": "markdown",
   "metadata": {},
   "source": [
    "On rappelle que $A \\Delta B = (A - B) \\cup (B - A)$"
   ]
  },
  {
   "cell_type": "code",
   "execution_count": null,
   "metadata": {},
   "outputs": [],
   "source": [
    "s1 ^ s2"
   ]
  },
  {
   "cell_type": "markdown",
   "metadata": {},
   "source": [
    "#### Union (s1 | s2)"
   ]
  },
  {
   "cell_type": "code",
   "execution_count": null,
   "metadata": {},
   "outputs": [],
   "source": [
    "print(s1)\n",
    "print(s2)\n",
    "print(s1 | s2)\n",
    "print(s1.union(s2))"
   ]
  },
  {
   "cell_type": "markdown",
   "metadata": {},
   "source": [
    "C'est à dire les éléments de s1 et de s2. Sans doublon bien évidemment."
   ]
  },
  {
   "cell_type": "markdown",
   "metadata": {},
   "source": [
    "#### Intersection (s1 & s2)"
   ]
  },
  {
   "cell_type": "code",
   "execution_count": null,
   "metadata": {},
   "outputs": [],
   "source": [
    "print(s1)\n",
    "print(s2)\n",
    "print(s1 & s2)\n",
    "print(s1.intersection(s2))"
   ]
  },
  {
   "cell_type": "markdown",
   "metadata": {},
   "source": [
    "C'est à dire uniquement les éléments commun qux deux sets."
   ]
  },
  {
   "cell_type": "markdown",
   "metadata": {},
   "source": [
    "#### Efficacité des sets"
   ]
  },
  {
   "cell_type": "markdown",
   "metadata": {},
   "source": [
    "Regardons maintenant l'efficacité du test d'appartenance. Vous pouvez peut-être vous poser une question, lorsque je fais un test d'appartenance, est-ce que c'est rentable de convertir ma séquence en set ou est-ce qu'il vaut mieux que je fasse directement le test d'appartenance sur une séquence ?\n",
    "\n",
    "Lorsque vous faites un test d'appartenance sur une séquence, vous devez parcourir tous les éléments de la séquence jusqu'à trouver l'élément que vous cherchez. Si l'élément n'est pas présent, vous devez parcourir tous les éléments de la séquence.\n",
    "\n",
    "Parcourir tous les éléments d'une séquence ça correspond à regarder une case mémoire dans votre ordinateur et faire une comparaison entre l'objet stocké dans cette case mémoire et l'objet que vous voulez comparer.\n",
    "\n",
    "Faire un test d'appartenance sur un set, c'est très différent ; comme on l'a vu, un set, c'est une table de hash ; ça veut donc dire que faire un test d'appartenance, c'est faire un calcul d'une fonction de hash sur l'objet que vous voulez chercher.\n",
    "\n",
    "Cette fonction de hash va vous donner une case et ensuite vous allez comparer si cet objet est le bon.\n",
    "\n",
    "La question qu'on peut se poser c'est combien de temps prend le calcul de cette fonction de hash sur votre objet.\n",
    "\n",
    "En fait, c'est de l'ordre de grandeur de l'accès à un élément dans une séquence.\n",
    "\n",
    "Ça veut dire qu'en fait, dès que vous avez à faire un test d'appartenance, convertissez toujours votre séquence en set, ce sera dans la quasi-intégralité des cas une opération rentable.\n",
    "\n",
    "En fait, convertir une séquence en set, ça va prendre le temps de calculer la fonction de hash sur chaque élément. C'est à dire, le temps qu'il vous faudrait pour parcourir une seule fois cette séquence si vous faisiez un test sur un objet qui n'appartient pas à la séquence. Donc on voit qu'en fait, quasiment tout le temps, c'est beaucoup plus rentable de convertir votre séquence en set."
   ]
  },
  {
   "cell_type": "markdown",
   "metadata": {},
   "source": [
    "### Comparaisons"
   ]
  },
  {
   "cell_type": "markdown",
   "metadata": {},
   "source": [
    "Ici encore on se donne deux ensembles :"
   ]
  },
  {
   "cell_type": "code",
   "execution_count": 4,
   "metadata": {},
   "outputs": [
    {
     "name": "stdout",
     "output_type": "stream",
     "text": [
      "superset {0, 1, 2, 3}\n",
      "subset {3, 4}\n"
     ]
    }
   ],
   "source": [
    "superset = {0, 1, 2, 3}\n",
    "superset2 = {0, 1, 2, 3}\n",
    "print('superset', superset)\n",
    "subset =  {4, 3}\n",
    "print('subset', subset)"
   ]
  },
  {
   "cell_type": "markdown",
   "metadata": {},
   "source": [
    "##### Égalité"
   ]
  },
  {
   "cell_type": "code",
   "execution_count": 5,
   "metadata": {},
   "outputs": [
    {
     "name": "stdout",
     "output_type": "stream",
     "text": [
      "False\n",
      "True\n"
     ]
    }
   ],
   "source": [
    "print(superset == subset)\n",
    "print(superset == superset2)"
   ]
  },
  {
   "cell_type": "markdown",
   "metadata": {},
   "source": [
    "##### Inclusion"
   ]
  },
  {
   "cell_type": "code",
   "execution_count": 6,
   "metadata": {},
   "outputs": [
    {
     "data": {
      "text/plain": [
       "False"
      ]
     },
     "execution_count": 6,
     "metadata": {},
     "output_type": "execute_result"
    }
   ],
   "source": [
    "subset <= superset"
   ]
  },
  {
   "cell_type": "code",
   "execution_count": 7,
   "metadata": {},
   "outputs": [
    {
     "data": {
      "text/plain": [
       "False"
      ]
     },
     "execution_count": 7,
     "metadata": {},
     "output_type": "execute_result"
    }
   ],
   "source": [
    "subset < superset"
   ]
  },
  {
   "cell_type": "code",
   "execution_count": 8,
   "metadata": {},
   "outputs": [
    {
     "data": {
      "text/plain": [
       "False"
      ]
     },
     "execution_count": 8,
     "metadata": {},
     "output_type": "execute_result"
    }
   ],
   "source": [
    "superset < superset2"
   ]
  },
  {
   "cell_type": "markdown",
   "metadata": {},
   "source": [
    "##### Ensembles disjoints"
   ]
  },
  {
   "cell_type": "code",
   "execution_count": 9,
   "metadata": {},
   "outputs": [
    {
     "ename": "NameError",
     "evalue": "name 'heteroclite' is not defined",
     "output_type": "error",
     "traceback": [
      "\u001b[0;31m---------------------------------------------------------------------------\u001b[0m",
      "\u001b[0;31mNameError\u001b[0m                                 Traceback (most recent call last)",
      "\u001b[1;32m/workspaces/M1MECEN20242025/13-Sets.ipynb Cellule 64\u001b[0m line \u001b[0;36m1\n\u001b[0;32m----> <a href='vscode-notebook-cell://codespaces%2Beffective-pancake-g767pwj4j7p39rrq/workspaces/M1MECEN20242025/13-Sets.ipynb#Y120sdnNjb2RlLXJlbW90ZQ%3D%3D?line=0'>1</a>\u001b[0m heteroclite\u001b[39m.\u001b[39misdisjoint(A3)\n",
      "\u001b[0;31mNameError\u001b[0m: name 'heteroclite' is not defined"
     ]
    }
   ],
   "source": [
    "heteroclite.isdisjoint(A3)"
   ]
  }
 ],
 "metadata": {
  "kernelspec": {
   "display_name": "Python 3",
   "language": "python",
   "name": "python3"
  },
  "language_info": {
   "codemirror_mode": {
    "name": "ipython",
    "version": 3
   },
   "file_extension": ".py",
   "mimetype": "text/x-python",
   "name": "python",
   "nbconvert_exporter": "python",
   "pygments_lexer": "ipython3",
   "version": "3.12.5"
  }
 },
 "nbformat": 4,
 "nbformat_minor": 2
}
