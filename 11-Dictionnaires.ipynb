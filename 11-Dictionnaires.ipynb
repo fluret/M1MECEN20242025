{
 "cells": [
  {
   "cell_type": "markdown",
   "metadata": {},
   "source": [
    "# Les dictionnaires"
   ]
  },
  {
   "cell_type": "markdown",
   "metadata": {},
   "source": [
    "Les dictionnaires sont des tables de hash, on a donc un temps d'accès, d'insertion d'effacement et un test d'appartenance qui sont indépendants du nombre d'éléments.\n",
    "De plus, les dictionnaires sont des objets mutables, ça veut dire qu'on peut les modifier en place avec donc une excellente efficacité mémoire.\n",
    "\n",
    "Dans un dictionnaire, on peut avoir comme clé n'importe quel objet qui est hashable. Qu'est-ce que c'est, un objet hashable ? C'est un objet sur lequel on peut calculer cette fameuse fonction de hash. Pour l'instant, sachez qu'en Python tous les objets immuables sont hashables ; et que tous les objets mutables ne sont pas hashables.\n",
    "\n",
    "Souvenez vous que la fonction de hash doit faire un calcul sur la clé. Or, si cette clé change en cours d'exécution, la fonction de hash va faire un calcul qui va être différent et par conséquent, votre table de hash va devenir inconsistante. C'est pourquoi en Python avec les types built-in, seuls les types immuables, c'est-à-dire qui ne peuvent plus changer une fois qu'ils ont été créés, peuvent être utilisés comme clés d'un dictionnaire. "
   ]
  },
  {
   "cell_type": "markdown",
   "metadata": {},
   "source": [
    "## Création"
   ]
  },
  {
   "cell_type": "markdown",
   "metadata": {},
   "source": [
    "Pour créer un dictionnaire on peut utiliser trois méthodes :\n",
    "1) créer un dictionnaire vide puis le remplir par affectation\n",
    "2) créer directement un dictionnaire avec des valeurs\n",
    "3) utiliser une conversion à l'aide la commander dict\n",
    "\n",
    "Pour créer un dictionnaire vide, on utilise la notation accolades. Créons un dictionnaire vide."
   ]
  },
  {
   "cell_type": "markdown",
   "metadata": {},
   "source": [
    "### Création à partir d'un dictionnaire vide"
   ]
  },
  {
   "cell_type": "code",
   "execution_count": null,
   "metadata": {},
   "outputs": [],
   "source": [
    "age = {}\n",
    "type(age)"
   ]
  },
  {
   "cell_type": "markdown",
   "metadata": {},
   "source": [
    "Pour le remplir, il va suffire que je lui affecte des valeurs :"
   ]
  },
  {
   "cell_type": "code",
   "execution_count": null,
   "metadata": {},
   "outputs": [],
   "source": [
    "age['ana'] = 35\n",
    "age['eve'] = 30\n",
    "age['bob'] = 38\n",
    "age"
   ]
  },
  {
   "cell_type": "markdown",
   "metadata": {},
   "source": [
    "### Création directe"
   ]
  },
  {
   "cell_type": "markdown",
   "metadata": {},
   "source": [
    "Je peux créer un dictionnaire en écrivant directement à la main des couples clé - valeur séparés par des :"
   ]
  },
  {
   "cell_type": "code",
   "execution_count": null,
   "metadata": {},
   "outputs": [],
   "source": [
    "age2 = {'ana':35,'eve':30,'bob':38 }\n",
    "print(type(age2))\n",
    "print(age2)"
   ]
  },
  {
   "cell_type": "markdown",
   "metadata": {},
   "source": [
    "### Création à l'aide de la fonction dict"
   ]
  },
  {
   "cell_type": "code",
   "execution_count": null,
   "metadata": {},
   "outputs": [],
   "source": [
    "age3 = dict([(\"ana\",35), ('eve',30),(\"bob\",38)])\n",
    "print(type(age3))\n",
    "print(age3)"
   ]
  },
  {
   "cell_type": "markdown",
   "metadata": {},
   "source": [
    "Cette autre frome est également possible :"
   ]
  },
  {
   "cell_type": "code",
   "execution_count": null,
   "metadata": {},
   "outputs": [],
   "source": [
    "age3 = dict(ana = 35, eve = 30, bob = 38)\n",
    "print(type(age3))\n",
    "print(age3)"
   ]
  },
  {
   "cell_type": "markdown",
   "metadata": {},
   "source": [
    "Dans ce cas, nous avons au départ une liste qui contient des tuples clé - valeur. ('ana', 35), un deuxième tuple : ('eve', 30) et un troisième tuple : ('bob', 38).\n",
    "Pour créer un dictionnaire à partir de cette liste de tuples, c'est très simple, vous n'avez qu'à utiliser la fonction built-in \"dict\" va créer un dictionnaire à partir de ces couples clé.\n",
    "\n",
    "J'ai créé un dictionnaire qui a trois clés 'ana', 'eve' et 'bob', et trois valeurs 35, 30 et 38.\n",
    "Vous pouvez vraiment voir les dictionnaires comme une collection de couples clé - valeur.\n",
    "\n",
    "Votre dictionnaire va stocker cette collection, il n'y a pas d'ordre dans un dictionnaire, vous allez avoir le couple 'ana' : 35, le couple 'eve' : 30 et le couple 'bob' : 38."
   ]
  },
  {
   "cell_type": "markdown",
   "metadata": {},
   "source": [
    "## Flexibilté et imbrication"
   ]
  },
  {
   "cell_type": "markdown",
   "metadata": {},
   "source": [
    "### Flexibilité"
   ]
  },
  {
   "cell_type": "markdown",
   "metadata": {},
   "source": [
    "Les dictionnaires sont très flexible, en effet ils peuvent contenir tous les types de données :"
   ]
  },
  {
   "cell_type": "code",
   "execution_count": 129,
   "metadata": {},
   "outputs": [],
   "source": [
    "my_dict = {'key1':123,'key2':[12,23,33],'key3':['item0','item1','item2']}"
   ]
  },
  {
   "cell_type": "code",
   "execution_count": null,
   "metadata": {},
   "outputs": [],
   "source": [
    "# Let's call items from the dictionary\n",
    "my_dict['key3']"
   ]
  },
  {
   "cell_type": "code",
   "execution_count": null,
   "metadata": {},
   "outputs": [],
   "source": [
    "# Can call an index on that value\n",
    "my_dict['key3'][0]"
   ]
  },
  {
   "cell_type": "markdown",
   "metadata": {},
   "source": [
    "### Dictionnaires imbriqués"
   ]
  },
  {
   "cell_type": "markdown",
   "metadata": {},
   "source": [
    "Nous espérons que vous commencez à voir à quel point Python est puissant avec sa flexibilité d'imbrication d'objets et d'appel de méthodes sur ces objets. Voyons un dictionnaire imbriqué dans un dictionnaire :"
   ]
  },
  {
   "cell_type": "code",
   "execution_count": 132,
   "metadata": {},
   "outputs": [],
   "source": [
    "# Dictionary nested inside a dictionary nested inside a dictionary\n",
    "d = {'key1':{'nestkey':{'subnestkey':'value'}}}"
   ]
  },
  {
   "cell_type": "markdown",
   "metadata": {},
   "source": [
    "Voyons comment nous pouvons récupérer la valeur `value` :"
   ]
  },
  {
   "cell_type": "code",
   "execution_count": null,
   "metadata": {},
   "outputs": [],
   "source": [
    "# Keep calling the keys\n",
    "d['key1']['nestkey']['subnestkey']"
   ]
  },
  {
   "cell_type": "markdown",
   "metadata": {},
   "source": [
    "## Accéder aux différents éléments"
   ]
  },
  {
   "cell_type": "markdown",
   "metadata": {},
   "source": [
    "On peut accèder à la valeur d'un élément en nommant sa clé :"
   ]
  },
  {
   "cell_type": "code",
   "execution_count": null,
   "metadata": {},
   "outputs": [],
   "source": [
    "age3['ana']"
   ]
  },
  {
   "cell_type": "markdown",
   "metadata": {},
   "source": [
    "### Obtenir la listes des clés"
   ]
  },
  {
   "cell_type": "code",
   "execution_count": null,
   "metadata": {},
   "outputs": [],
   "source": [
    "print(age.keys())\n",
    "print(age3.keys())"
   ]
  },
  {
   "cell_type": "markdown",
   "metadata": {},
   "source": [
    "### Obtenir la liste des valeurs"
   ]
  },
  {
   "cell_type": "code",
   "execution_count": null,
   "metadata": {},
   "outputs": [],
   "source": [
    "print(age.values())\n",
    "print(age3.values())"
   ]
  },
  {
   "cell_type": "markdown",
   "metadata": {},
   "source": [
    "### Obtenir la liste des couples clé-valeur ou items"
   ]
  },
  {
   "cell_type": "code",
   "execution_count": null,
   "metadata": {},
   "outputs": [],
   "source": [
    "print(age.items())\n",
    "print(age3.items())"
   ]
  },
  {
   "cell_type": "markdown",
   "metadata": {},
   "source": [
    "Ces méthodes keys, values et items retournent un objet qui est un peu particulier ; c'est un objet qu'on appelle une vue.\n",
    "\n",
    "Qu'est-ce qu'une vue, en Python ?\n",
    "\n",
    "C'est un objet sur lequel on peut itérer, donc on peut faire une boucle for sur cet objet, et on peut également faire un test d'appartenance, donc faire par exemple in directement sur cette vue ; la caractéristique principale des vues est que la vue est mise à jour en même temps que le dictionnaire."
   ]
  },
  {
   "cell_type": "code",
   "execution_count": null,
   "metadata": {},
   "outputs": [],
   "source": [
    "k = age.keys()\n",
    "print(k)\n",
    "age['bob']= 36"
   ]
  },
  {
   "cell_type": "markdown",
   "metadata": {},
   "source": [
    "On utilise un variable k pour rendre plus explicite le fait que c'est la vue sur les clés.\n",
    "Lorsque l'on affiche k, je vois bien que c'est la vue qui me permet d'accéder aux clés."
   ]
  },
  {
   "cell_type": "markdown",
   "metadata": {},
   "source": [
    "Modifions notre dictionnaire en ajoutant la clé 'mary' :"
   ]
  },
  {
   "cell_type": "code",
   "execution_count": 139,
   "metadata": {},
   "outputs": [],
   "source": [
    "age['mary'] = 20"
   ]
  },
  {
   "cell_type": "markdown",
   "metadata": {},
   "source": [
    "Cette notation permet de modifier une valeur existante ou alors de rajouter un nouveau couple clé - valeur si la clé n'existe pas. Dans notre cas 'mary' n'existe pas.\n",
    "Je n'ai pas recréé ma vue, c'est la vue que j'ai créée avant l'ajout de cette clé, et pourtant :"
   ]
  },
  {
   "cell_type": "code",
   "execution_count": null,
   "metadata": {},
   "outputs": [],
   "source": [
    "k"
   ]
  },
  {
   "cell_type": "markdown",
   "metadata": {},
   "source": [
    "Je vois que ma vue a automatiquement été mise à jour avec cette nouvelle clé.\n",
    "C'est donc une vue permanente sur votre objet, si votre objet est modifié, la vue va voir ce nouvel objet qui a été modifié.\n",
    "\n",
    "Les tests d'appartenances sur les vues fonctionnent comme sur le dictionnaire lui-même :"
   ]
  },
  {
   "cell_type": "code",
   "execution_count": null,
   "metadata": {},
   "outputs": [],
   "source": [
    "print('ana' in k)\n",
    "print('fred' in k)"
   ]
  },
  {
   "cell_type": "markdown",
   "metadata": {},
   "source": [
    "## Mutabilité"
   ]
  },
  {
   "cell_type": "markdown",
   "metadata": {},
   "source": [
    "Comme mon dictionnaire est mutable, je peux tout à fait changer la valeur correspondant à 'bob':"
   ]
  },
  {
   "cell_type": "code",
   "execution_count": null,
   "metadata": {},
   "outputs": [],
   "source": [
    "age3['bob'] = 40\n",
    "print(age3)"
   ]
  },
  {
   "cell_type": "markdown",
   "metadata": {},
   "source": [
    "## Opérations de base"
   ]
  },
  {
   "cell_type": "markdown",
   "metadata": {},
   "source": [
    "### Effacer un élément"
   ]
  },
  {
   "cell_type": "markdown",
   "metadata": {},
   "source": [
    "Vous pouvez également effacer un couple clé - valeur, donc une entrée dans un dictionnaire, en utilisant l'instruction del :"
   ]
  },
  {
   "cell_type": "code",
   "execution_count": null,
   "metadata": {},
   "outputs": [],
   "source": [
    "del age3['bob']\n",
    "print(age3)"
   ]
  },
  {
   "cell_type": "markdown",
   "metadata": {},
   "source": [
    "### Compter le nombre d'éléments"
   ]
  },
  {
   "cell_type": "code",
   "execution_count": null,
   "metadata": {},
   "outputs": [],
   "source": [
    "print(len(age))\n",
    "print(len(age2))\n",
    "print(len(age3))"
   ]
  },
  {
   "cell_type": "markdown",
   "metadata": {},
   "source": [
    "### Test d'appartenance"
   ]
  },
  {
   "cell_type": "code",
   "execution_count": null,
   "metadata": {},
   "outputs": [],
   "source": [
    "print('ana' in age2)\n",
    "print('bob' in age3)"
   ]
  },
  {
   "cell_type": "markdown",
   "metadata": {},
   "source": [
    "### Recherche d'un clé dans un dictionnaire"
   ]
  },
  {
   "cell_type": "markdown",
   "metadata": {},
   "source": [
    "Attention : si vous cherchez une clef qui n'existe pas dans un dictionnaire, une exception `KeyError` est levée. Pour éviter cela, vous pouvez utiliser la méthode **get()**"
   ]
  },
  {
   "cell_type": "code",
   "execution_count": null,
   "metadata": {},
   "outputs": [],
   "source": [
    "age.get('ana') # existe"
   ]
  },
  {
   "cell_type": "code",
   "execution_count": 147,
   "metadata": {},
   "outputs": [],
   "source": [
    "age.get('fred') # n'existe pas"
   ]
  },
  {
   "cell_type": "markdown",
   "metadata": {},
   "source": [
    "Si vous le souhaitez, cette fonction peut renvoyer une valeur par défaut lorsque la clé n'existe pas :"
   ]
  },
  {
   "cell_type": "code",
   "execution_count": null,
   "metadata": {},
   "outputs": [],
   "source": [
    "age.get('fred','inconnu') # n'existe pas"
   ]
  },
  {
   "cell_type": "code",
   "execution_count": null,
   "metadata": {},
   "outputs": [],
   "source": [
    "print(age['fred'])"
   ]
  },
  {
   "cell_type": "markdown",
   "metadata": {},
   "source": [
    "### Supprimer un élément"
   ]
  },
  {
   "cell_type": "markdown",
   "metadata": {},
   "source": [
    "la méthode **pop()** permet de retirer une clef d'un dictionnaire tout en retournant la valeur associée a la clef."
   ]
  },
  {
   "cell_type": "code",
   "execution_count": null,
   "metadata": {},
   "outputs": [],
   "source": [
    "print(age2)\n",
    "bob = age2.pop(\"bob\")\n",
    "print(age2) # ne contient plus de clef abricots\n",
    "print(bob) # abricots contient la valeur du dictionnaire"
   ]
  },
  {
   "cell_type": "markdown",
   "metadata": {},
   "source": [
    "### Ajouter une liste d'éléments"
   ]
  },
  {
   "cell_type": "markdown",
   "metadata": {},
   "source": [
    "La méthode `update` permet d'ajouter un dictionnaire à un autre :"
   ]
  },
  {
   "cell_type": "code",
   "execution_count": null,
   "metadata": {},
   "outputs": [],
   "source": [
    "print(age2)\n",
    "age4 = {'pierre': 45, 'alice': 25}\n",
    "age2.update(age4)\n",
    "print(age2)"
   ]
  }
 ],
 "metadata": {
  "kernelspec": {
   "display_name": "Python 3",
   "language": "python",
   "name": "python3"
  },
  "language_info": {
   "codemirror_mode": {
    "name": "ipython",
    "version": 3
   },
   "file_extension": ".py",
   "mimetype": "text/x-python",
   "name": "python",
   "nbconvert_exporter": "python",
   "pygments_lexer": "ipython3",
   "version": "3.12.5"
  }
 },
 "nbformat": 4,
 "nbformat_minor": 2
}
