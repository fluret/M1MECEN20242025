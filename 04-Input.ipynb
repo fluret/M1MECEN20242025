{
 "cells": [
  {
   "cell_type": "markdown",
   "id": "84a54e09",
   "metadata": {},
   "source": [
    "# Obtenir une réponse de l'utilisateur"
   ]
  },
  {
   "cell_type": "markdown",
   "id": "ec476aff",
   "metadata": {},
   "source": [
    "Occasionnellement, il peut être utile de poser une question à l'utilisateur."
   ]
  },
  {
   "cell_type": "markdown",
   "id": "d39edc5d",
   "metadata": {},
   "source": [
    "### La fonction `input`"
   ]
  },
  {
   "cell_type": "markdown",
   "id": "68de266d",
   "metadata": {},
   "source": [
    "C'est le propos de la fonction `input`. Par exemple :"
   ]
  },
  {
   "cell_type": "code",
   "execution_count": null,
   "id": "e48970da",
   "metadata": {
    "latex:hidden-code-instead": "nom_ville = 'Paris'"
   },
   "outputs": [],
   "source": [
    "nom_ville = input(\"Entrez le nom de la ville : \")"
   ]
  },
  {
   "cell_type": "code",
   "execution_count": null,
   "id": "5d37ffed",
   "metadata": {},
   "outputs": [],
   "source": [
    "print(f\"nom_ville={nom_ville}\")"
   ]
  },
  {
   "cell_type": "markdown",
   "id": "78a16cea",
   "metadata": {},
   "source": [
    "### Attention à bien vérifier/convertir"
   ]
  },
  {
   "cell_type": "markdown",
   "id": "a34e83fb",
   "metadata": {},
   "source": [
    "Notez bien que `input` renvoie **toujours une chaîne de caractères** (`str`). C'est assez évident, mais il est très facile de l'oublier et de passer cette chaîne directement à une fonction qui s'attend à recevoir, par exemple, un nombre entier, auquel cas les choses se passent mal :"
   ]
  },
  {
   "cell_type": "markdown",
   "id": "f4b31da2",
   "metadata": {},
   "source": [
    "```python\n",
    ">>> input(\"nombre de lignes ? \") + 3\n",
    "nombre de lignes ? 12\n",
    "Traceback (most recent call last):\n",
    "  File \"<stdin>\", line 1, in <module>\n",
    "TypeError: must be str, not int\n",
    "```"
   ]
  },
  {
   "cell_type": "markdown",
   "id": "651da4f1",
   "metadata": {},
   "source": [
    "Dans ce cas il faut appeler la fonction `int` pour convertir le résultat en un entier :"
   ]
  },
  {
   "cell_type": "code",
   "execution_count": null,
   "id": "d5fe0ccb",
   "metadata": {
    "latex:skip-eval": true
   },
   "outputs": [],
   "source": [
    "int(input(\"Nombre de lignes ? \")) + 3"
   ]
  },
  {
   "cell_type": "markdown",
   "id": "e04b441c",
   "metadata": {},
   "source": [
    "### Limitations"
   ]
  },
  {
   "cell_type": "markdown",
   "id": "1e5d8845",
   "metadata": {},
   "source": [
    "Cette fonction peut être utile pour vos premiers pas en Python.\n",
    "\n",
    "En pratique toutefois, on utilise assez peu cette fonction, car les applications \"réelles\" viennent avec leur propre interface utilisateur, souvent graphique, et disposent donc d'autres moyens que celui-ci pour interagir avec l'utilisateur.\n",
    "\n",
    "Les applications destinées à fonctionner dans un terminal, quant à elles, reçoivent traditionnellement leurs données de la ligne de commande. C'est le propos du module `argparse` que nous avons déjà rencontré en première semaine."
   ]
  }
 ],
 "metadata": {
  "jupytext": {
   "cell_metadata_filter": "all, -hidden, -heading_collapsed, -run_control, -trusted",
   "notebook_metadata_filter": "all, -jupytext.text_representation.jupytext_version, -jupytext.text_representation.format_version, -language_info.version, -language_info.codemirror_mode.version, -language_info.codemirror_mode, -language_info.file_extension, -language_info.mimetype, -toc",
   "text_representation": {
    "extension": ".md",
    "format_name": "myst"
   }
  },
  "kernelspec": {
   "display_name": "Python 3 (ipykernel)",
   "language": "python",
   "name": "python3"
  },
  "language_info": {
   "codemirror_mode": {
    "name": "ipython",
    "version": 3
   },
   "file_extension": ".py",
   "mimetype": "text/x-python",
   "name": "python",
   "nbconvert_exporter": "python",
   "pygments_lexer": "ipython3",
   "version": "3.10.2"
  },
  "notebookname": "La fonction input",
  "version": "3.0"
 },
 "nbformat": 4,
 "nbformat_minor": 5
}
