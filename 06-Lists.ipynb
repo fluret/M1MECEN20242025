{
 "cells": [
  {
   "cell_type": "markdown",
   "metadata": {},
   "source": [
    "# Les listes\n",
    "\n",
    "Lorsque nous avons discuté des chaînes, nous avons introduit le concept de *séquence* en Python. Les listes peuvent être considérées comme la version la plus générale d'une *séquence* en Python. Contrairement aux chaînes, elles sont mutables, ce qui signifie que les éléments d'une liste peuvent être modifiés !\n",
    "\n",
    "Dans cette partie, nous apprendrons ce qui suit :\n",
    "    \n",
    "    1.) Création des listes\n",
    "    2.) Indexation et découpage des listes\n",
    "    3.) Méthodes de liste de base\n",
    "    4.) Listes imbriquées\n",
    "\n",
    "Une liste peut absolument stocker n'importe quels types d'objets mais il est important de comprendre que la liste ne stocke pas les objets mais ne stocke que des références vers ces objets.\n",
    "\n",
    "Par conséquent, la taille de l'objet liste est indépendante du type d'objets qui sont référencés.\n",
    "\n",
    "Une liste peut\n",
    "- augmenter en taille\n",
    "- réduire\n",
    "- s'écarter au milieu, rajouter des éléments à l'intérieur\n",
    "\n",
    "On peut vraiment complètement la manipuler c'est très malléable. En fait, la liste est malléable parce que c'est un objet mutable. Et cette notion de mutabilité est importante à comprendre. Un objet mutable, c'est un objet que l'on peut modifier en place. Ça veut dire que l'on peut modifier là où il est stocké. L'avantage de cette mutabilité, c'est qu'on n'a pas besoin de faire une copie de l'objet pour le modifier. C'est donc extrêmement efficace au niveau mémoire. \n",
    "\n",
    "Je vous rappelle qu'une liste est une séquence.\n",
    "\n",
    "Par conséquent, toutes les opérations que l'on a vues sur les séquences sont applicables aux listes:\n",
    "- test d'appartenance\n",
    "- la concaténation\n",
    "- la fonction built-in len\n",
    "- count\n",
    "- index"
   ]
  },
  {
   "cell_type": "markdown",
   "metadata": {},
   "source": [
    "Les listes sont construites avec des crochets [] et des virgules séparant chaque élément de la liste.\n",
    "Començons par créer une liste vide :"
   ]
  },
  {
   "cell_type": "code",
   "execution_count": 28,
   "metadata": {},
   "outputs": [],
   "source": [
    "my_list = []"
   ]
  },
  {
   "cell_type": "markdown",
   "metadata": {},
   "source": [
    "Vérifions son type :"
   ]
  },
  {
   "cell_type": "code",
   "execution_count": null,
   "metadata": {},
   "outputs": [],
   "source": [
    "type(my_list)"
   ]
  },
  {
   "cell_type": "code",
   "execution_count": 1,
   "metadata": {
    "collapsed": true
   },
   "outputs": [],
   "source": [
    "# Assign a list to an variable named my_list\n",
    "my_list = [1,2,3]"
   ]
  },
  {
   "cell_type": "markdown",
   "metadata": {},
   "source": [
    "Nous venons de créer une liste d'entiers, mais les listes peuvent contenir différents types d'objets. Par exemple, les listes peuvent contenir différents types d'objets :"
   ]
  },
  {
   "cell_type": "code",
   "execution_count": 2,
   "metadata": {
    "collapsed": true
   },
   "outputs": [],
   "source": [
    "my_list = ['A string',23,100.232,'o']"
   ]
  },
  {
   "cell_type": "markdown",
   "metadata": {},
   "source": [
    "Comme pour les chaînes de caractères, la fonction len() indique le nombre d'éléments dans la séquence de la liste."
   ]
  },
  {
   "cell_type": "code",
   "execution_count": null,
   "metadata": {},
   "outputs": [],
   "source": [
    "len(my_list)"
   ]
  },
  {
   "cell_type": "markdown",
   "metadata": {},
   "source": [
    "### Indexation et découpage\n",
    "L'indexation et le découpage fonctionnent comme pour les chaînes de caractères. Créons une nouvelle liste pour nous rappeler comment cela fonctionne :"
   ]
  },
  {
   "cell_type": "code",
   "execution_count": 38,
   "metadata": {
    "collapsed": true
   },
   "outputs": [],
   "source": [
    "my_list = ['one','two','three',4.5]"
   ]
  },
  {
   "cell_type": "code",
   "execution_count": null,
   "metadata": {},
   "outputs": [],
   "source": [
    "# Grab element at index 0\n",
    "my_list[0]"
   ]
  },
  {
   "cell_type": "markdown",
   "metadata": {},
   "source": [
    "Il est bien évidemment possible de faire des calcul directement sur un élément d'une liste :"
   ]
  },
  {
   "cell_type": "code",
   "execution_count": null,
   "metadata": {},
   "outputs": [],
   "source": [
    "my_list[-1] = my_list[-1] + 10.0\n",
    "my_list"
   ]
  },
  {
   "cell_type": "markdown",
   "metadata": {},
   "source": [
    "Nous pouvons également utiliser + pour concaténer des listes, comme nous l'avons fait pour les chaînes de caractères."
   ]
  },
  {
   "cell_type": "code",
   "execution_count": null,
   "metadata": {},
   "outputs": [],
   "source": [
    "my_list + ['new item']"
   ]
  },
  {
   "cell_type": "markdown",
   "metadata": {},
   "source": [
    "Note : Cela ne modifie pas la liste originale !"
   ]
  },
  {
   "cell_type": "code",
   "execution_count": null,
   "metadata": {},
   "outputs": [],
   "source": [
    "my_list"
   ]
  },
  {
   "cell_type": "markdown",
   "metadata": {},
   "source": [
    "Vous devrez réaffecter la liste pour rendre le changement permanent."
   ]
  },
  {
   "cell_type": "code",
   "execution_count": 42,
   "metadata": {
    "collapsed": true
   },
   "outputs": [],
   "source": [
    "# Reassign\n",
    "my_list = my_list + ['add new item permanently']"
   ]
  },
  {
   "cell_type": "code",
   "execution_count": null,
   "metadata": {},
   "outputs": [],
   "source": [
    "my_list"
   ]
  },
  {
   "cell_type": "markdown",
   "metadata": {},
   "source": [
    "Nous pouvons également utiliser l'astérisque (*) pour une méthode de duplication similaire à celle des chaînes de caractères :"
   ]
  },
  {
   "cell_type": "code",
   "execution_count": null,
   "metadata": {},
   "outputs": [],
   "source": [
    "# Make the list double\n",
    "my_list * 2"
   ]
  },
  {
   "cell_type": "code",
   "execution_count": null,
   "metadata": {},
   "outputs": [],
   "source": [
    "# Again doubling not permanent\n",
    "my_list"
   ]
  },
  {
   "cell_type": "markdown",
   "metadata": {},
   "source": [
    "## Méthodes de base\n",
    "\n",
    "Si vous êtes familier avec un autre langage de programmation, vous pouvez commencer à faire des parallèles entre les tableaux d'un autre langage et les listes de Python. Les listes en Python ont cependant tendance à être plus flexibles que les tableaux dans d'autres langages pour deux bonnes raisons : elles n'ont pas de taille fixe (ce qui signifie que nous n'avons pas à spécifier la taille d'une liste), et elles n'ont pas de contrainte de type fixe (comme nous l'avons vu plus haut).\n",
    "\n",
    "Continuons à explorer d'autres méthodes spéciales pour les listes :"
   ]
  },
  {
   "cell_type": "code",
   "execution_count": 48,
   "metadata": {
    "collapsed": true
   },
   "outputs": [],
   "source": [
    "# Create a new list\n",
    "list1 = [1,2,3]"
   ]
  },
  {
   "cell_type": "markdown",
   "metadata": {},
   "source": [
    "### append et extend"
   ]
  },
  {
   "cell_type": "markdown",
   "metadata": {},
   "source": [
    "Utilisez la méthode **append** pour ajouter de façon permanente un élément à la fin d'une liste :"
   ]
  },
  {
   "cell_type": "code",
   "execution_count": 49,
   "metadata": {
    "collapsed": true
   },
   "outputs": [],
   "source": [
    "# Append\n",
    "list1.append('append me!')"
   ]
  },
  {
   "cell_type": "code",
   "execution_count": null,
   "metadata": {},
   "outputs": [],
   "source": [
    "# Show\n",
    "list1"
   ]
  },
  {
   "cell_type": "markdown",
   "metadata": {},
   "source": [
    "Je peux également utiliser l'opération extend qui va prendre une séquence, 1, 2, 3, et qui va ajouter chaque élément de cette séquence à la fin de ma liste. En fait, c'est comme si on faisait un append sur chaque élément de la séquence."
   ]
  },
  {
   "cell_type": "code",
   "execution_count": null,
   "metadata": {},
   "outputs": [],
   "source": [
    "print(\"Avant l'opération : \" ,list1)\n",
    "list1.extend([1,2,3])\n",
    "print(\"Après l'opération : \" ,list1)"
   ]
  },
  {
   "cell_type": "markdown",
   "metadata": {},
   "source": [
    "### `append` *vs* `+`"
   ]
  },
  {
   "cell_type": "markdown",
   "metadata": {},
   "source": [
    "Ces deux méthodes `append` et `extend` sont donc assez voisines ; avant de voir d'autres méthodes de `list`, prenons un peu le temps de comparer leur comportement avec l'addition `+` de liste. L'élément clé ici, on l'a déjà vu dans la vidéo, est que la liste est un objet **mutable**. `append` et `extend` **modifient** la liste sur laquelle elles travaillent, alors que l'addition **crée un nouvel objet**."
   ]
  },
  {
   "cell_type": "code",
   "execution_count": null,
   "metadata": {},
   "outputs": [],
   "source": [
    "# pour créer une liste avec les n premiers entiers, on utilise\n",
    "# la fonction built-in range(), que l'on convertit en liste\n",
    "# on aura l'occasion d'y revenir\n",
    "a1 = [0, 1, 2]\n",
    "print(a1)"
   ]
  },
  {
   "cell_type": "code",
   "execution_count": null,
   "metadata": {},
   "outputs": [],
   "source": [
    "a2 = [10, 11, 12]\n",
    "print(a2)"
   ]
  },
  {
   "cell_type": "code",
   "execution_count": 61,
   "metadata": {},
   "outputs": [],
   "source": [
    "# le fait d'utiliser + crée une nouvelle liste\n",
    "a3 = a1 + a2"
   ]
  },
  {
   "cell_type": "code",
   "execution_count": null,
   "metadata": {},
   "outputs": [],
   "source": [
    "# si bien que maintenant on a trois objets différents\n",
    "print('a1', a1)\n",
    "print('a2', a2)\n",
    "print('a3', a3)"
   ]
  },
  {
   "cell_type": "markdown",
   "metadata": {},
   "source": [
    "Comme on le voit, après une addition, les deux termes de l'addition sont inchangés. Pour bien comprendre, voyons exactement le même scénario sous pythontutor :"
   ]
  },
  {
   "cell_type": "code",
   "execution_count": 63,
   "metadata": {},
   "outputs": [],
   "source": [
    "%load_ext tutormagic"
   ]
  },
  {
   "cell_type": "markdown",
   "metadata": {},
   "source": [
    "**Note** : une fois que vous avez évalué la cellule avec `%%ipythontutor`, vous devez cliquer sur le bouton `Next` pour voir pas à pas le comportement du programme."
   ]
  },
  {
   "cell_type": "code",
   "execution_count": null,
   "metadata": {},
   "outputs": [],
   "source": [
    "%%tutor --lang python3 --heapPrimitives --run --height=650\n",
    "a1 = [0, 1, 2]\n",
    "a2 = [10, 11, 12]\n",
    "a3 = a1 + a2"
   ]
  },
  {
   "cell_type": "markdown",
   "metadata": {},
   "source": [
    "Alors que si on avait utilisé `extend`, on aurait obtenu ceci :"
   ]
  },
  {
   "cell_type": "code",
   "execution_count": null,
   "metadata": {},
   "outputs": [],
   "source": [
    "%%tutor --lang python3 --heapPrimitives --run --height=650\n",
    "e1 = [0, 1, 2]\n",
    "e2 = [10, 11, 12]\n",
    "e3 = e1.extend(e2)"
   ]
  },
  {
   "cell_type": "markdown",
   "metadata": {},
   "source": [
    "Ici on tire profit du fait que la liste est un objet mutable : `extend` **modifie** l'objet sur lequel on l'appelle (ici `e1`). Dans ce scénario on ne crée en tout que deux objets, et du coup il est inutile pour extend de renvoyer quoi que ce soit, et c'est pourquoi `e3` ici vaut None."
   ]
  },
  {
   "cell_type": "markdown",
   "metadata": {},
   "source": [
    "C'est pour cette raison que :\n",
    "\n",
    "* l'addition est disponible sur tous les types séquences - on peut toujours réaliser l'addition puisqu'on crée un nouvel objet pour stocker le résultat de l'addition ;\n",
    "* mais `append` et `extend` ne sont par exemple **pas disponibles** sur les chaînes de caractères, qui sont **immuables** - si `e1` était une chaîne, on ne pourrait pas la modifier pour lui ajouter des éléments."
   ]
  },
  {
   "cell_type": "markdown",
   "metadata": {},
   "source": [
    "### `insert`"
   ]
  },
  {
   "cell_type": "markdown",
   "metadata": {},
   "source": [
    "Mais reprenons notre inventaire des méthodes de `list`, et pour cela rappelons nous le contenu de la variable `liste` :"
   ]
  },
  {
   "cell_type": "code",
   "execution_count": 66,
   "metadata": {},
   "outputs": [],
   "source": [
    "liste = [0, 1, 2, 3]"
   ]
  },
  {
   "cell_type": "markdown",
   "metadata": {},
   "source": [
    "La méthode `insert` permet, comme le nom le suggère, d'insérer un élément à une certaine position ; comme toujours les indices commencent à zéro et donc :"
   ]
  },
  {
   "cell_type": "code",
   "execution_count": null,
   "metadata": {},
   "outputs": [],
   "source": [
    "# insérer à l'index 2\n",
    "liste.insert(2, '1 bis')\n",
    "print('liste', liste)"
   ]
  },
  {
   "cell_type": "markdown",
   "metadata": {},
   "source": [
    "On peut remarquer qu'un résultat analogue peut être obtenu avec une affectation de slice ; par exemple pour insérer au rang 5 (i.e. avant `ap`), on pourrait aussi bien faire :"
   ]
  },
  {
   "cell_type": "code",
   "execution_count": null,
   "metadata": {},
   "outputs": [],
   "source": [
    "liste[5:5] = ['3 bis']\n",
    "print('liste', liste)"
   ]
  },
  {
   "cell_type": "markdown",
   "metadata": {},
   "source": [
    "### pop"
   ]
  },
  {
   "cell_type": "markdown",
   "metadata": {},
   "source": [
    "Utilisez **pop** pour \"retirer\" un élément de la liste. Par défaut, pop retire le dernier index, mais vous pouvez également spécifier l'index à retirer. Voyons un exemple :"
   ]
  },
  {
   "cell_type": "code",
   "execution_count": null,
   "metadata": {},
   "outputs": [],
   "source": [
    "# Pop off the 0 indexed item\n",
    "list1.pop(0)"
   ]
  },
  {
   "cell_type": "code",
   "execution_count": null,
   "metadata": {},
   "outputs": [],
   "source": [
    "# Show\n",
    "list1"
   ]
  },
  {
   "cell_type": "code",
   "execution_count": 13,
   "metadata": {
    "collapsed": true
   },
   "outputs": [],
   "source": [
    "# Assign the popped element, remember default popped index is -1\n",
    "popped_item = list1.pop()"
   ]
  },
  {
   "cell_type": "code",
   "execution_count": null,
   "metadata": {},
   "outputs": [],
   "source": [
    "popped_item"
   ]
  },
  {
   "cell_type": "code",
   "execution_count": null,
   "metadata": {},
   "outputs": [],
   "source": [
    "# Show remaining list\n",
    "list1"
   ]
  },
  {
   "cell_type": "markdown",
   "metadata": {},
   "source": [
    "Il convient également de noter que l'indexation des listes renvoie une erreur s'il n'y a pas d'élément à cet index. Par exemple, l'indexation par liste renvoie une erreur si aucun élément ne se trouve à l'index en question :"
   ]
  },
  {
   "cell_type": "code",
   "execution_count": null,
   "metadata": {},
   "outputs": [],
   "source": [
    "list1[100]"
   ]
  },
  {
   "cell_type": "markdown",
   "metadata": {},
   "source": [
    "### remove"
   ]
  },
  {
   "cell_type": "markdown",
   "metadata": {},
   "source": [
    "La méthode `remove` détruit la **première occurrence** d'un objet dans la liste :"
   ]
  },
  {
   "cell_type": "code",
   "execution_count": null,
   "metadata": {},
   "outputs": [],
   "source": [
    "liste6 = [0, 1, 2, 3, 4, 5, 3, 7, 8, 3]\n",
    "liste6.remove(3)\n",
    "print('liste', liste6)"
   ]
  },
  {
   "cell_type": "markdown",
   "metadata": {},
   "source": [
    "### reverse"
   ]
  },
  {
   "cell_type": "code",
   "execution_count": 17,
   "metadata": {
    "collapsed": true
   },
   "outputs": [],
   "source": [
    "new_list = ['a','e','x','b','c']"
   ]
  },
  {
   "cell_type": "code",
   "execution_count": null,
   "metadata": {},
   "outputs": [],
   "source": [
    "#Show\n",
    "new_list"
   ]
  },
  {
   "cell_type": "code",
   "execution_count": 19,
   "metadata": {
    "collapsed": true
   },
   "outputs": [],
   "source": [
    "# Use reverse to reverse order (this is permanent!)\n",
    "new_list.reverse()"
   ]
  },
  {
   "cell_type": "code",
   "execution_count": null,
   "metadata": {},
   "outputs": [],
   "source": [
    "new_list"
   ]
  },
  {
   "cell_type": "markdown",
   "metadata": {},
   "source": [
    "### sort et sorted"
   ]
  },
  {
   "cell_type": "markdown",
   "metadata": {},
   "source": [
    "#### La méthode sort"
   ]
  },
  {
   "cell_type": "markdown",
   "metadata": {},
   "source": [
    "La méthode sort va trier les éléments de ma liste, attention, sort fonctionne en place, ça veut dire que ma liste a été triée en place sans faire de copie temporaire et la méthode sort ne retourne rien puisque l'objet a été trié en place. On constate que la liste 'a' a été modifiée."
   ]
  },
  {
   "cell_type": "code",
   "execution_count": 8,
   "metadata": {
    "collapsed": true
   },
   "outputs": [],
   "source": [
    "# Use sort to sort the list (in this case alphabetical order, but for numbers it will go ascending)\n",
    "new_list.sort()"
   ]
  },
  {
   "cell_type": "code",
   "execution_count": null,
   "metadata": {},
   "outputs": [],
   "source": [
    "new_list"
   ]
  },
  {
   "cell_type": "markdown",
   "metadata": {},
   "source": [
    "Ne faites jamais d'opération d'affectation sur la méthode sort parce que la méthode sort va vous retourner l'objet None."
   ]
  },
  {
   "cell_type": "code",
   "execution_count": null,
   "metadata": {},
   "outputs": [],
   "source": [
    "new_list = new_list.sort()\n",
    "print(new_list)"
   ]
  },
  {
   "cell_type": "markdown",
   "metadata": {},
   "source": [
    "Ma variable 'new_list' va référencer non plus la liste que j'ai triée, mais simplement la valeur de retour de sort qui ne sert à rien, qui est juste l'objet None, l'objet vide."
   ]
  },
  {
   "cell_type": "markdown",
   "metadata": {},
   "source": [
    "#### La fonction sorted"
   ]
  },
  {
   "cell_type": "markdown",
   "metadata": {},
   "source": [
    "Si vous avez besoin de faire le tri sur une copie de votre liste, la fonction `sorted` vous permet de le faire :"
   ]
  },
  {
   "cell_type": "code",
   "execution_count": null,
   "metadata": {},
   "outputs": [],
   "source": [
    "#%%tutor --lang python3 --heapPrimitives --run --height=500\n",
    "liste1 = [3, 2, 9, 1]\n",
    "liste2 = sorted(liste1)\n",
    "print(liste2)"
   ]
  },
  {
   "cell_type": "markdown",
   "metadata": {},
   "source": [
    "#### Tri décroissant"
   ]
  },
  {
   "cell_type": "markdown",
   "metadata": {},
   "source": [
    "Revenons à la méthode `sort` et aux tris *en place*. Par défaut la liste est triée par ordre croissant, si au contraire vous voulez l'ordre décroissant, faites comme ceci :"
   ]
  },
  {
   "cell_type": "code",
   "execution_count": null,
   "metadata": {},
   "outputs": [],
   "source": [
    "liste = [8, 7, 4, 3, 2, 9, 1, 5, 6]\n",
    "print('avant tri', liste)\n",
    "liste.sort(reverse=True)\n",
    "print('apres tri décroissant', liste)"
   ]
  },
  {
   "cell_type": "markdown",
   "metadata": {},
   "source": [
    "### split et join"
   ]
  },
  {
   "cell_type": "markdown",
   "metadata": {},
   "source": [
    "Ces deux opérations vont nous permettre de passer d'une chaine à une liste et d'une liste à une chaine.\n",
    "Ce sont deux opérations que l'on utilise souvent notamment lorsque l'on veut accéder à des fichiers.\n",
    "\n",
    "Je crée une chaîne de caractères s, qui va contenir une suite de mots séparés par un espace. Imaginons que cette chaîne de caractères soit le résultat de la lecture d'un fichier, j'aimerais séparer cette chaîne de caractères en colonnes ; obtenir la première, la deuxième et la troisième colonnes etc.\n",
    "En Python, c'est très simple de faire ça, on utilise la fonction built-in split, qui est une fonction des chaînes de caractères. Le résultat de cette fonction built-in, c'est de découper ma chaîne de caractères en utilisant l'espace comme séparateur :"
   ]
  },
  {
   "cell_type": "code",
   "execution_count": null,
   "metadata": {},
   "outputs": [],
   "source": [
    "s = 'Bonjour Hello Ola Kaixo Buongiorno'\n",
    "a = s.split()\n",
    "a"
   ]
  },
  {
   "cell_type": "markdown",
   "metadata": {},
   "source": [
    "Regardons le résultat, j'obtiens une liste qui contient chacun de mes mots.\n",
    "\n",
    "À split, je peux lui passer n'importe quel caractère de séparation ; par exemple, si ma chaîne de caractères avait été formatée avec des virgules qui séparent les mots, j'aurais pu passer à split la chaîne de caractères ',' pour découper en fonction de cette virgule."
   ]
  },
  {
   "cell_type": "code",
   "execution_count": null,
   "metadata": {},
   "outputs": [],
   "source": [
    "s = 'Bonjour;Hello;Ola;Kaixo;Buongiorno'\n",
    "a = s.split(';')\n",
    "a"
   ]
  },
  {
   "cell_type": "markdown",
   "metadata": {},
   "source": [
    "Une fois que j'ai ma liste, ma liste étant mutable, je peux tout à fait mettre en majuscule le premier élément."
   ]
  },
  {
   "cell_type": "code",
   "execution_count": null,
   "metadata": {},
   "outputs": [],
   "source": [
    "a[0] = a[0].upper()\n",
    "a"
   ]
  },
  {
   "cell_type": "markdown",
   "metadata": {},
   "source": [
    "Je peux, pour finir, retransformer ma liste en chaîne de caractères avec la syntaxe suivante :"
   ]
  },
  {
   "cell_type": "code",
   "execution_count": null,
   "metadata": {},
   "outputs": [],
   "source": [
    "\" \".join(a)"
   ]
  },
  {
   "cell_type": "markdown",
   "metadata": {},
   "source": [
    "Cette syntaxe est un tout petit peu particulière en Python, je commence par écrire la chaîne de caractères de séparation, qui va être mise entre chaque élément de ma liste.\n",
    "\n",
    "Évidemment, ma chaîne de caractères peut être absolument n'importe quoi comme séparateur.\n",
    "\n",
    "J'obtiens une nouvelle chaîne de caractères.\n"
   ]
  },
  {
   "cell_type": "markdown",
   "metadata": {},
   "source": [
    "## Listes imbriquées\n",
    "L'une des grandes caractéristiques des structures de données Python est qu'elles prennent en charge l'imbrication (nesting). Cela signifie que nous pouvons avoir des structures de données dans des structures de données. \n",
    "\n",
    "Par exemple, une liste à l'intérieur d'une liste :"
   ]
  },
  {
   "cell_type": "code",
   "execution_count": 23,
   "metadata": {
    "collapsed": true
   },
   "outputs": [],
   "source": [
    "# Let's make three lists\n",
    "lst_1=[1,2,3]\n",
    "lst_2=[4,5,6]\n",
    "lst_3=[7,8,9]\n",
    "\n",
    "# Make a list of lists to form a matrix\n",
    "matrix = [lst_1,lst_2,lst_3]"
   ]
  },
  {
   "cell_type": "code",
   "execution_count": null,
   "metadata": {},
   "outputs": [],
   "source": [
    "# Show\n",
    "matrix"
   ]
  },
  {
   "cell_type": "markdown",
   "metadata": {},
   "source": [
    "Nous pouvons à nouveau utiliser l'indexation pour attraper les éléments, mais il y a maintenant deux niveaux pour l'index. Les éléments de l'objet matrice, puis les éléments à l'intérieur de cette liste !"
   ]
  },
  {
   "cell_type": "code",
   "execution_count": null,
   "metadata": {},
   "outputs": [],
   "source": [
    "# Grab first item in matrix object\n",
    "matrix[0]"
   ]
  },
  {
   "cell_type": "code",
   "execution_count": null,
   "metadata": {},
   "outputs": [],
   "source": [
    "# Grab first item of the first item in the matrix object\n",
    "matrix[0][0]"
   ]
  },
  {
   "cell_type": "markdown",
   "metadata": {},
   "source": [
    "## Slicing"
   ]
  },
  {
   "cell_type": "markdown",
   "metadata": {},
   "source": [
    "Sur ma liste, je peux également faire des opérations de slicing, donc si je prends a[1 : 3], ça va me prendre tous les éléments allant de 1 inclus à 3 exclu, c'est-à-dire à l'élément 2, ça va me retourner: 'spam', 3.2."
   ]
  },
  {
   "cell_type": "code",
   "execution_count": null,
   "metadata": {},
   "outputs": [],
   "source": [
    "a = [16, 'spam', 3.2, True]\n",
    "a[1:3]"
   ]
  },
  {
   "cell_type": "code",
   "execution_count": null,
   "metadata": {},
   "outputs": [],
   "source": [
    "a[1:]"
   ]
  },
  {
   "cell_type": "code",
   "execution_count": null,
   "metadata": {},
   "outputs": [],
   "source": [
    "a[:3]"
   ]
  },
  {
   "cell_type": "markdown",
   "metadata": {},
   "source": [
    "Et je peux même faire des opérations d'affectation sur des slices. Alors, ça, c'est quelque chose d'un peu particulier, qu'on va prendre le temps d'expliquer. Regardez, j'écris a[1 : 3] égale la liste 1, 2, 3 et regardons ce qu'il se passe."
   ]
  },
  {
   "cell_type": "code",
   "execution_count": null,
   "metadata": {},
   "outputs": [],
   "source": [
    "print(\"Avant l'opération : \" ,a)\n",
    "a[1:3] = [1, 2, 3]\n",
    "print(\"Après l'opération : \" ,a)"
   ]
  },
  {
   "cell_type": "markdown",
   "metadata": {},
   "source": [
    "Lorsque j'exécute cela, je vois que ma liste a été modifiée d'une manière un peu curieuse. \n",
    "\n",
    "L'affectation sur un slice va effectuer deux opérations indépendantes. \n",
    "\n",
    "- La première opération, lorsque je fais a[1 : 3], c'est d'enlever tous les éléments qui vont de 1 inclus à 3 exclu, donc d'enlever tous les éléments sur le slice. \n",
    "- La deuxième opération va consister à insérer les éléments qui sont dans la séquence de droite, donc dans ce cas-là, 1, 2, 3, à la place des éléments qui ont été effacés. \n",
    "\n",
    "Dans notre exemple, j'ai effacé les éléments 'spam', 3.2, et j'ai ajouté à la place les éléments 1, 2, 3.\n",
    "\n",
    "On voit donc qu'une liste est extrêmement flexible puisqu'on peut effacer des éléments au milieu, en rajouter, la liste va automatiquement s'étendre ou alors se contracter en fonction de ce qu'on ajoute au milieu. Cette opération d'affectation sur un slice, c'est un moyen très simple d'effacer des éléments dans une liste.\n",
    "\n",
    "Si je fais a[1 : 3], et que je lui affecte une liste vide, je vais effacer tous les éléments qui sont entre 1 et 3, et comme je ne remets rien à la place, ces éléments vont être simplement effacés."
   ]
  },
  {
   "cell_type": "code",
   "execution_count": null,
   "metadata": {},
   "outputs": [],
   "source": [
    "print(\"Avant l'opération : \" ,a)\n",
    "a[1 : 3] = []\n",
    "print(\"Après l'opération : \" ,a)"
   ]
  },
  {
   "cell_type": "markdown",
   "metadata": {},
   "source": [
    "Je peux également utiliser l'instruction del pour enlever des éléments dans un slice donc regardons cet exemple: del a[1 : 2] va m'effacer l'élément à l'indice 1."
   ]
  },
  {
   "cell_type": "code",
   "execution_count": null,
   "metadata": {},
   "outputs": [],
   "source": [
    "print(\"Avant l'opération : \" ,a)\n",
    "del a[1 : 2]\n",
    "print(\"Après l'opération : \" ,a)   "
   ]
  },
  {
   "cell_type": "markdown",
   "metadata": {},
   "source": [
    "Je regarde ma séquence et effectivement, l'élément 3 a été effacé."
   ]
  }
 ],
 "metadata": {
  "kernelspec": {
   "display_name": "Python 3",
   "language": "python",
   "name": "python3"
  },
  "language_info": {
   "codemirror_mode": {
    "name": "ipython",
    "version": 3
   },
   "file_extension": ".py",
   "mimetype": "text/x-python",
   "name": "python",
   "nbconvert_exporter": "python",
   "pygments_lexer": "ipython3",
   "version": "3.12.5"
  }
 },
 "nbformat": 4,
 "nbformat_minor": 1
}
