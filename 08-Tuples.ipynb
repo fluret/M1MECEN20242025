{
 "cells": [
  {
   "cell_type": "markdown",
   "metadata": {},
   "source": [
    "# Les tuples"
   ]
  },
  {
   "cell_type": "markdown",
   "metadata": {},
   "source": [
    "## Principe\n",
    "En informatique, il est fréquent d'avoir à stocker plusieurs valeurs dans une même variable.\n",
    "Pour cela, nous pouvons utiliser entre autres des p-uplets.\n",
    "\n",
    "Un p-uplet est une suite ordonnée de valeurs.\n",
    "\n",
    "Voici quelques exemples :\n",
    "* un couple de coordonnées d'un point, tel que (3, -2) est un 2-uplet ;\n",
    "* un *trouple* de coordonnées d'un point de l'espace, tel que (-4, 1, 7) est un 3-uplet ;\n",
    "\n",
    "En Python, les p-uplets sont représentés par des objets de type `tuple`. Dans la suite, nous utiliserons le mot *tuple* au lieu de *p-uplet*.\n"
   ]
  },
  {
   "cell_type": "markdown",
   "metadata": {},
   "source": [
    "Le tuple est très proche de la liste ; comme une liste, c'est une séquence, on peut donc appliquer les opérations :\n",
    "- test d'appartenance avec in\n",
    "- accéder aux différents éléments avec un crochet\n",
    "- faire du slicing dessus\n",
    "- un tuple peut référencer des objets complètement hétérogènes.\n",
    "\n",
    "C'est très, très proche de la liste, mais il y a une différence fondamentale entre la liste et le tuple, c'est que le tuple est un objet **immuable**.\n",
    "\n",
    "Ça veut dire qu'une fois qu'on a créé le tuple, on ne peut plus le modifier. Nous verrons la raison fondamentale de l'existence du tuple, pourquoi est-ce qu'on a besoin d'un objet liste qui est immuable, lorsque nous parlerons des dictionnaires."
   ]
  },
  {
   "cell_type": "markdown",
   "metadata": {},
   "source": [
    "## Déclaration\n",
    "\n",
    "Commençons par créer un tuple vide. On crée un tuple en écrivant simplement des parenthèses ouvrante et fermante."
   ]
  },
  {
   "cell_type": "code",
   "execution_count": null,
   "metadata": {},
   "outputs": [],
   "source": [
    "t = ()\n",
    "type(t)"
   ]
  },
  {
   "cell_type": "markdown",
   "metadata": {},
   "source": [
    "Ça va donc me créer un objet de type tuple, je peux le vérifier avec type, c'est un objet tuple qui est simplement vide. Évidemment, comme le tuple est immuable, lorsque je crée un tuple vide, je ne peux rien ajouter donc ce tuple vide a assez peu d'intérêt.\n",
    "\n",
    "Ensuite, je peux créer un tuple de plusieurs éléments, qui contient des objets complètement hétérogènes, exactement comme une liste :"
   ]
  },
  {
   "cell_type": "code",
   "execution_count": null,
   "metadata": {},
   "outputs": [],
   "source": [
    "t = (True, 3.4, 18)"
   ]
  },
  {
   "cell_type": "markdown",
   "metadata": {},
   "source": [
    "J'ai donc mon objet tuple. Une caractéristique importante du tuple, c'est que les parenthèses sont facultatives."
   ]
  },
  {
   "cell_type": "code",
   "execution_count": null,
   "metadata": {},
   "outputs": [],
   "source": [
    "t = True, 3.4, 18\n",
    "type(t)"
   ]
  },
  {
   "cell_type": "code",
   "execution_count": null,
   "metadata": {},
   "outputs": [],
   "source": [
    "print(t)"
   ]
  },
  {
   "cell_type": "markdown",
   "metadata": {},
   "source": [
    "Les quatres déclarations suivantes construisent toutes le même tuple :"
   ]
  },
  {
   "cell_type": "code",
   "execution_count": null,
   "metadata": {},
   "outputs": [],
   "source": [
    "# sans parenthèse ni virgule terminale\n",
    "couple1 = 1, 2\n",
    "# avec parenthèses\n",
    "couple2 = (1, 2)\n",
    "# avec virgule terminale\n",
    "couple3 = 1, 2,\n",
    "# avec parenthèses et virgule\n",
    "couple4 = (1, 2,)"
   ]
  },
  {
   "cell_type": "markdown",
   "metadata": {},
   "source": [
    "Comme on le voit :\n",
    "\n",
    "* en réalité la **parenthèse est parfois superflue** ; mais il se trouve qu'elle est **largement utilisée** pour améliorer la lisibilité des programmes, sauf dans le cas du _tuple unpacking_ ; nous verrons aussi plus bas qu'elle est **parfois nécessaire** selon l'endroit où le tuple apparaît dans le programme ;\n",
    "* la **dernière virgule est optionnelle** aussi, c'est le cas pour les tuples à au moins 2 éléments - nous verrons plus bas le cas des tuples à un seul élément."
   ]
  },
  {
   "cell_type": "markdown",
   "metadata": {},
   "source": [
    "### Conseil pour la présentation sur plusieurs lignes"
   ]
  },
  {
   "cell_type": "markdown",
   "metadata": {},
   "source": [
    "En général d'ailleurs, la forme avec parenthèses et virgule terminale est plus pratique. Considérez par exemple l'initialisation suivante ; on veut créer un tuple qui contient des listes (naturellement un tuple peut contenir n'importe quel objet Python), et comme c'est assez long on préfère mettre un élément du tuple par ligne :"
   ]
  },
  {
   "cell_type": "code",
   "execution_count": null,
   "metadata": {},
   "outputs": [],
   "source": [
    "mon_tuple = ([1, 2, 3],\n",
    "             [4, 5, 6],\n",
    "             [7, 8, 9],\n",
    "            )"
   ]
  },
  {
   "cell_type": "markdown",
   "metadata": {},
   "source": [
    "L'avantage lorsqu'on choisit cette forme (avec parenthèses, et avec virgule terminale), c'est d'abord qu'il n'est pas nécessaire de mettre un backslash à la fin de chaque ligne ; parce que l'on est à l'intérieur d'une zone parenthésée, l'interpréteur Python \"sait\" que l'instruction n'est pas terminée et va se continuer sur la ligne suivante.\n",
    "\n",
    "Deuxièmement, si on doit ultérieurement ajouter ou enlever un élément dans le tuple, il suffira d'enlever ou d'ajouter toute une ligne, sans avoir à s'occuper des virgules ; si on avait choisi de ne pas faire figurer la virgule terminale, alors pour ajouter un élément dans le tuple après le dernier, il ne faut pas oublier d'ajouter une virgule à la ligne précédente. Cette simplicité se répercute au niveau du gestionnaire de code source, où les différences dans le code sont plus faciles à visualiser.\n",
    "\n",
    "Signalons enfin que ceci n'est pas propre aux tuples. La virgule terminale est également optionnelle pour les listes, ainsi d'ailleurs que pour tous les types Python où cela fait du sens, comme les dictionnaires et les ensembles que nous verrons bientôt. Et dans tous les cas où on opte pour une présentation multi-lignes, il est conseillé de faire figurer une virgule terminale."
   ]
  },
  {
   "cell_type": "markdown",
   "metadata": {},
   "source": [
    "Comme le tuple est un objet de type séquence, je peux évidemment faire toutes les opérations que je peux faire sur une séquence. Reprenons un tuple avec un peu plus d'éléments."
   ]
  },
  {
   "cell_type": "code",
   "execution_count": null,
   "metadata": {},
   "outputs": [],
   "source": [
    "t = True, 3.4, 18"
   ]
  },
  {
   "cell_type": "markdown",
   "metadata": {},
   "source": [
    "### Cas particulier des tuples avec un seul élément\n",
    "\n",
    "Ensuite, je peux créer un tuple avec un élément, avec la notation suivante :"
   ]
  },
  {
   "cell_type": "code",
   "execution_count": null,
   "metadata": {},
   "outputs": [],
   "source": [
    "t = (4,)\n",
    "type(t)"
   ]
  },
  {
   "cell_type": "markdown",
   "metadata": {},
   "source": [
    "Vous remarquez que j'ai rajouté une virgule à la fin de mon premier élément.\n",
    "\n",
    "Si vous déclarez votre tuple avec des parenthèses sans virgule :"
   ]
  },
  {
   "cell_type": "code",
   "execution_count": null,
   "metadata": {},
   "outputs": [],
   "source": [
    "t = (4)\n",
    "type(t)"
   ]
  },
  {
   "cell_type": "markdown",
   "metadata": {},
   "source": [
    "Pour Python, les parenthèses vont simplement permettre de grouper des opérations, et par conséquent, il va considérer qu'en fait l'objet que vous avez créé est juste un entier qui vaut 4.\n",
    "\n",
    "Je peux également tout à fait écrire un singleton sans parenthèses, et j'obtiens toujours mon objet tuple."
   ]
  },
  {
   "cell_type": "code",
   "execution_count": null,
   "metadata": {},
   "outputs": [],
   "source": [
    "t = 4,\n",
    "type(t)"
   ]
  },
  {
   "cell_type": "markdown",
   "metadata": {},
   "source": [
    "Donc pour un tuple singleton, un tuple d'un seul élément, il ne faut pas oublier de mettre la virgule."
   ]
  },
  {
   "cell_type": "markdown",
   "metadata": {},
   "source": [
    "### Immuabilité"
   ]
  },
  {
   "cell_type": "code",
   "execution_count": null,
   "metadata": {},
   "outputs": [],
   "source": [
    "t = True, 3.4, 18"
   ]
  },
  {
   "cell_type": "markdown",
   "metadata": {},
   "source": [
    "Supposons qu'exceptionnelement je souhaite modifier la première valeur de mon tuple :"
   ]
  },
  {
   "cell_type": "code",
   "execution_count": null,
   "metadata": {},
   "outputs": [],
   "source": [
    "t[0] = False"
   ]
  },
  {
   "cell_type": "markdown",
   "metadata": {},
   "source": [
    "Un tuple étant immuable, j'obtiens bien évidemment un message d'erreur.\n",
    "\n",
    "Toutes les opértations qui modifient un tuple sont donc interdites :"
   ]
  },
  {
   "cell_type": "code",
   "execution_count": null,
   "metadata": {},
   "outputs": [],
   "source": [
    "t.append('nope')"
   ]
  },
  {
   "cell_type": "markdown",
   "metadata": {},
   "source": [
    "### Création à l'aide de la fonction tuple\n",
    "\n",
    "Reprenons notre tuple de départ :"
   ]
  },
  {
   "cell_type": "code",
   "execution_count": 5,
   "metadata": {},
   "outputs": [],
   "source": [
    "t = True, 3.4, 18"
   ]
  },
  {
   "cell_type": "markdown",
   "metadata": {},
   "source": [
    "Je peux convertir un tuple en liste :"
   ]
  },
  {
   "cell_type": "code",
   "execution_count": null,
   "metadata": {},
   "outputs": [],
   "source": [
    "a = list(t)\n",
    "a"
   ]
  },
  {
   "cell_type": "markdown",
   "metadata": {},
   "source": [
    "Je peux modifier le premier élément de ma liste, puis repasser de ma liste à un tuple si par exemple, je décide de modifier mon objet en cours d'exécution."
   ]
  },
  {
   "cell_type": "code",
   "execution_count": null,
   "metadata": {},
   "outputs": [],
   "source": [
    "a[0] = False\n",
    "print(a)\n",
    "t = tuple(a)\n",
    "print(t)"
   ]
  },
  {
   "cell_type": "markdown",
   "metadata": {},
   "source": [
    "C'est très important de comprendre que le tuple étant immuable, je n'ai pas modifié mon objet tuple ; j'avais un tuple que j'ai converti en objet liste j'ai modifié l'objet liste et j'ai créé un nouvel objet tuple."
   ]
  },
  {
   "cell_type": "code",
   "execution_count": null,
   "metadata": {},
   "outputs": [],
   "source": [
    "# cas d'une liste\n",
    "maliste = [4, 3, 8]\n",
    "print(id(maliste))\n",
    "maliste[2] = 9\n",
    "print(id(maliste))"
   ]
  },
  {
   "cell_type": "code",
   "execution_count": null,
   "metadata": {},
   "outputs": [],
   "source": [
    "# cas d'un tuple\n",
    "montuple = (4, 3, 8)\n",
    "print(id(montuple))\n",
    "maliste = list(montuple)\n",
    "maliste[2] = 9\n",
    "montuple = tuple(maliste)\n",
    "print(id(montuple))"
   ]
  },
  {
   "cell_type": "markdown",
   "metadata": {},
   "source": [
    "## Opération d'appartenance : in"
   ]
  },
  {
   "cell_type": "markdown",
   "metadata": {},
   "source": [
    "Je peux regarder est-ce que 3.4 in t et je vois que cet objet de type float est bien dans mon tuple"
   ]
  },
  {
   "cell_type": "code",
   "execution_count": null,
   "metadata": {},
   "outputs": [],
   "source": [
    "t = True, 3.4, 18\n",
    "3.4 in t"
   ]
  },
  {
   "cell_type": "markdown",
   "metadata": {},
   "source": [
    "## Accèder à une valeur du tuple (indexation)\n",
    "La syntaxe est la même que pour les listes :"
   ]
  },
  {
   "cell_type": "code",
   "execution_count": null,
   "metadata": {},
   "outputs": [],
   "source": [
    "valeurs = (4, 1.73, 'Hello !', False)\n",
    "print('Premier élément :', valeurs[0])\n",
    "print('Dernier élément :', valeurs[3])"
   ]
  },
  {
   "cell_type": "markdown",
   "metadata": {},
   "source": [
    "> <span style='font-size:20px; color: red;'>&#9936;</span>\n",
    "Attention : bien qu'un tuple soit créé avec des parenthèses, l'accès à une valeur utilise les crochets. \n",
    "Remarquez que si je tapais `valeurs(0)`, l'interpréteur chercherait à appeler la **fonction** `valeurs` (avec l'argument 0) or `valeurs` est ici un tuple, pas une fonction."
   ]
  },
  {
   "cell_type": "markdown",
   "metadata": {},
   "source": [
    "Comme pour les listes, il existe, **dans le langage Python**, des indices négatifs, dans ce cas le tuple est parcouru en partant de la fin :"
   ]
  },
  {
   "cell_type": "code",
   "execution_count": null,
   "metadata": {},
   "outputs": [],
   "source": [
    "print('Dernier élément :', valeurs[-1])\n",
    "print('Avant-dernier élément :', valeurs[-2])"
   ]
  },
  {
   "cell_type": "markdown",
   "metadata": {},
   "source": [
    "## tuple imbriqué"
   ]
  },
  {
   "cell_type": "markdown",
   "metadata": {},
   "source": [
    "Enfin, dans le cas d'un tuple contenant des tuples, la notation est encore la même que pour les listes de listes :"
   ]
  },
  {
   "cell_type": "code",
   "execution_count": null,
   "metadata": {},
   "outputs": [],
   "source": [
    "un_autre_tuple = (('a', 'b'), ('c', 'd'))\n",
    "print(un_autre_tuple[1])# élément d'indice 1 de `un_autre_tuple`\n",
    "print(un_autre_tuple[1][0])# élément d'indice 0 de `un_autre_tuple[1]`"
   ]
  },
  {
   "cell_type": "markdown",
   "metadata": {},
   "source": [
    "## Slicing\n",
    "La syntaxe est la même que pour les listes :"
   ]
  },
  {
   "cell_type": "code",
   "execution_count": null,
   "metadata": {},
   "outputs": [],
   "source": [
    "villes = ('Paris', 'Berlin', 'Londres', 'Bruxelles')\n",
    "print('séquence complete:', villes)\n",
    "print('index 0-2:', villes[0:3])\n",
    "print('index 1-2:', villes[1:3])\n",
    "print('ordre inverse:', villes[::-1])"
   ]
  },
  {
   "cell_type": "markdown",
   "metadata": {},
   "source": [
    "## Opérations sur les tuples\n",
    "Les opérations `+` et `*` sont les mêmes que pour les chaînes de caractères. \n",
    "\n",
    "De nouveaux tuples sont créés à chaque fois."
   ]
  },
  {
   "cell_type": "code",
   "execution_count": null,
   "metadata": {},
   "outputs": [],
   "source": [
    "jours = ('Lundi', 'Mardi', 'Mercredi', 'Jeudi', 'Vendredi')\n",
    "week_end = ('Samedi', 'Dimanche')\n",
    "semaine = jours + week_end\n",
    "semaine"
   ]
  },
  {
   "cell_type": "code",
   "execution_count": null,
   "metadata": {},
   "outputs": [],
   "source": [
    "un_tuple = ('Lundi', 'Mardi')\n",
    "un_tuple*5"
   ]
  },
  {
   "cell_type": "markdown",
   "metadata": {},
   "source": [
    "Remarque : observez la différence entre les deux scripts suivants :"
   ]
  },
  {
   "cell_type": "code",
   "execution_count": null,
   "metadata": {},
   "outputs": [],
   "source": [
    "# script 1\n",
    "un_tuple = ('Bla')\n",
    "un_tuple*5"
   ]
  },
  {
   "cell_type": "code",
   "execution_count": null,
   "metadata": {},
   "outputs": [],
   "source": [
    "# script 2\n",
    "un_tuple = ('Bla',)\n",
    "un_tuple*5"
   ]
  },
  {
   "cell_type": "markdown",
   "metadata": {},
   "source": [
    "## Méthodes et fonctions courantes\n",
    "\n",
    "### Fonction `len` :"
   ]
  },
  {
   "cell_type": "code",
   "execution_count": null,
   "metadata": {},
   "outputs": [],
   "source": [
    "montuple = (1, -4, 7)\n",
    "len(montuple)"
   ]
  },
  {
   "cell_type": "markdown",
   "metadata": {},
   "source": [
    "### Méthode `index` :"
   ]
  },
  {
   "cell_type": "code",
   "execution_count": null,
   "metadata": {},
   "outputs": [],
   "source": [
    "villes = ('Paris', 'Berlin', 'Londres', 'Bruxelles', 'Paris') # tuple initiale\n",
    "print(villes)\n",
    "print(villes.index('Berlin')) # renvoie l'index du premier élément correspondant à 'Berlin'"
   ]
  },
  {
   "cell_type": "markdown",
   "metadata": {},
   "source": [
    "### Méthode `count` :"
   ]
  },
  {
   "cell_type": "code",
   "execution_count": null,
   "metadata": {},
   "outputs": [],
   "source": [
    "villes = ('Paris', 'Berlin', 'Londres', 'Bruxelles', 'Paris') # tuple initiale\n",
    "print(villes)\n",
    "print(villes.count('Paris')) # compte le nombre de fois qu'un élément apparait dans le tuple"
   ]
  },
  {
   "cell_type": "markdown",
   "metadata": {},
   "source": [
    "### Fonction `sorted` :"
   ]
  },
  {
   "cell_type": "code",
   "execution_count": null,
   "metadata": {},
   "outputs": [],
   "source": [
    "villes = ('Paris', 'Berlin', 'Londres', 'Bruxelles', 'Paris') # tuple initiale\n",
    "print(villes)\n",
    "print(sorted(villes)) # tri le tuple"
   ]
  }
 ],
 "metadata": {
  "interpreter": {
   "hash": "b89b5cfaba6639976dc87ff2fec6d58faec662063367e2c229c520fe71072417"
  },
  "kernelspec": {
   "display_name": "Python 3.10.2 64-bit",
   "language": "python",
   "name": "python3"
  },
  "language_info": {
   "codemirror_mode": {
    "name": "ipython",
    "version": 3
   },
   "file_extension": ".py",
   "mimetype": "text/x-python",
   "name": "python",
   "nbconvert_exporter": "python",
   "pygments_lexer": "ipython3",
   "version": "3.12.5"
  },
  "orig_nbformat": 4
 },
 "nbformat": 4,
 "nbformat_minor": 2
}
